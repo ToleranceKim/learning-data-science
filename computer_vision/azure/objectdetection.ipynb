{
 "cells": [
  {
   "attachments": {},
   "cell_type": "markdown",
   "metadata": {},
   "source": [
    "Create a new Python application"
   ]
  },
  {
   "cell_type": "markdown",
   "metadata": {},
   "source": [
    "%pip install azure-cognitiveservices-vision-customvision"
   ]
  },
  {
   "cell_type": "code",
   "execution_count": 13,
   "metadata": {},
   "outputs": [],
   "source": [
    "# Azure의 Custom Vision 라이브러리를 추가. 예측을 위하여 prediction을 포함\n",
    "from azure.cognitiveservices.vision.customvision.prediction import CustomVisionPredictionClient\n",
    "\n",
    "# OpenAPI 스펙에 맞춰서 Authentication을 처리할 수 있도록 해주는 코드\n",
    "from msrest.authentication import ApiKeyCredentials\n",
    "\n",
    "# Python Image 라이브러리로 이미지 그리기\n",
    "from PIL import Image, ImageDraw, ImageFont\n",
    "\n",
    "from matplotlib import pyplot as plt\n",
    "import numpy as np\n",
    "import os"
   ]
  },
  {
   "attachments": {},
   "cell_type": "markdown",
   "metadata": {},
   "source": [
    "Create variables for your resource's Azure endpoint and keys."
   ]
  },
  {
   "cell_type": "code",
   "execution_count": 14,
   "metadata": {},
   "outputs": [],
   "source": [
    "# 사용자가 만든 AI 모델의 예측 가능을 사용하기 위한 endpoint 지정\n",
    "prediction_endpoint = \"https://neptun91cv20250201-prediction.cognitiveservices.azure.com\"\n",
    "# KEY 값 지정\n",
    "prediction_key = \"FmsSQhMLJA0McNupuDZhslecZ2RigONtaJHn6SVzC9CA540d0kagJQQJ99BBACYeBjFXJ3w3AAAIACOGtWOY\""
   ]
  },
  {
   "attachments": {},
   "cell_type": "markdown",
   "metadata": {},
   "source": [
    "Authenticate the client"
   ]
  },
  {
   "cell_type": "code",
   "execution_count": 15,
   "metadata": {},
   "outputs": [],
   "source": [
    "# 프로젝트 ID 지정\n",
    "project_id = \"1f579657-a46b-4ea8-8db1-cb9cd12a7b91\"\n",
    "# 모델명 지정\n",
    "model_name = \"Iteration1\""
   ]
  },
  {
   "attachments": {},
   "cell_type": "markdown",
   "metadata": {},
   "source": [
    "Load image and get height, width and channels"
   ]
  },
  {
   "cell_type": "code",
   "execution_count": 16,
   "metadata": {},
   "outputs": [
    {
     "name": "stdout",
     "output_type": "stream",
     "text": [
      "Detecting objects in  ./data/test-1.png\n"
     ]
    }
   ],
   "source": [
    "# 테스트 이미지를 Codespace workspace에 추가한 후 image_file 변수로 지정\n",
    "image_file = \"./data/test-1.png\"\n",
    "\n",
    "# 이미지 파일 등록되었음을 출력\n",
    "print('Detecting objects in ', image_file)\n",
    "\n",
    "# Python Imaging Library의 image open함수를 써서 테스트 이미지 파일 오픈\n",
    "image = Image.open(image_file)\n",
    "\n",
    "# Numpy에서 이미지의 shape을 높이, 폭, 채널 읽기\n",
    "h, w, ch = np.array(image).shape"
   ]
  },
  {
   "cell_type": "code",
   "execution_count": 17,
   "metadata": {},
   "outputs": [
    {
     "name": "stdout",
     "output_type": "stream",
     "text": [
      "791\n",
      "1410\n",
      "3\n"
     ]
    }
   ],
   "source": [
    "print(h)\n",
    "print(w)\n",
    "print(ch)"
   ]
  },
  {
   "attachments": {},
   "cell_type": "markdown",
   "metadata": {},
   "source": [
    "Detect objects in the test image"
   ]
  },
  {
   "cell_type": "code",
   "execution_count": null,
   "metadata": {},
   "outputs": [],
   "source": [
    "# 테스트 이미지를 열고 모델에 적용해서 결과를 저장\n",
    "with open(image_file, mode=\"rb\") as image_data:\n",
    "    results = predictor.detect"
   ]
  },
  {
   "attachments": {},
   "cell_type": "markdown",
   "metadata": {},
   "source": [
    "Create a figure for the results\n",
    "Display the image with boxes around each detected object"
   ]
  },
  {
   "cell_type": "code",
   "execution_count": null,
   "metadata": {},
   "outputs": [],
   "source": []
  }
 ],
 "metadata": {
  "kernelspec": {
   "display_name": "ds_env",
   "language": "python",
   "name": "python3"
  },
  "language_info": {
   "codemirror_mode": {
    "name": "ipython",
    "version": 3
   },
   "file_extension": ".py",
   "mimetype": "text/x-python",
   "name": "python",
   "nbconvert_exporter": "python",
   "pygments_lexer": "ipython3",
   "version": "3.12.8"
  }
 },
 "nbformat": 4,
 "nbformat_minor": 2
}
