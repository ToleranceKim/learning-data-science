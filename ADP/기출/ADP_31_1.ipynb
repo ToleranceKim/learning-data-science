{
 "cells": [
  {
   "cell_type": "markdown",
   "metadata": {},
   "source": [
    "# ADP 31회 풀이 연습"
   ]
  },
  {
   "cell_type": "markdown",
   "metadata": {},
   "source": [
    "각 환자의 의료정보이다. NObeyesdad를 종속변수로 하는 분류모델을 만드려고 한다.\n",
    "\n",
    "- id: unique id for each row\n",
    "- Gender: sex - male or female\n",
    "- Age: age\n",
    "- Height: height\n",
    "- Weight: weight\n",
    "- family_history_with_overweight: Has a family member suffered or suffers f from overweight? - yes or no\n",
    "- FAVC: Frequent consumption of high caloric food - yes or no\n",
    "- FCVC: Frequency of consumption of vegetables - Never, Sometimes, Always\n",
    "- NCP: Number of main meals - 1, 2, 3, 4\n",
    "- CAEC: Consumption of food between meals - No, Sometimes, Frequently, Always\n",
    "- SMOKE: Do you smoke - yes o no\n",
    "- CH2O: Consumption of water daily - Less than a litter, between 1 and 2 l, more than 2 l\n",
    "- SCC: Calories consumption monitoring - yes or no\n",
    "- FAF: Physical activity frequency - 0, 1 to 2, 2 to 4, 4 to 5\n",
    "- TUE: Time using technology devices - 0 to 2, 3 to 5, >5\n",
    "- CALC: Consumption of alcohol - no, sometimes, frequently, always\n",
    "- MTRANS: Transportation used - automobile, motorbike, bike, public_transportation, walking\n",
    "- BMI: Body mass index\n",
    "\n",
    "(종속변수)\n",
    "NObeyesdad: Type of obesity - overweight-level_i, obesity_type_i, obesity_type_ii, obesity_type_iii"
   ]
  },
  {
   "cell_type": "markdown",
   "metadata": {},
   "source": [
    "# 문항\n",
    "\n",
    "1-1. EDA & 결측치 및 이상치를 판단하고 처리하라\n",
    "\n",
    "1-2. 데이터 전처리 기법 2가지를 설명하고 주어진 데이터에 적용시 어떤 효과가 있는지 설명하라\n",
    "\n",
    "1-3. 피쳐 엔지니어링을 통해 파생변수 1개를 생성하고 그 이유를 말하라\n",
    "\n",
    "2-1. 앙상블을 제외한 분류 모델 3가지 구축 및 결과 비교 및 설명하라\n",
    "\n",
    "2-2. 2-1에서 사용한 모델 중 하나를 골라 그리드 서치를 통해서 파라미터 튜닝 및 분류 모델 성능 평가 (precision ,recall)\n",
    "\n",
    "2-3. 2-1의 3가지 모델을 soft voting을 이용하여 모델링 한 결과와 2-2과 비교하라\n",
    "\n",
    "3-1. 하나의 모델을 선정하여 Drop Column Importance 방식으로 각 변수 별로 전체 컬럼을 포함한 모델과의 recall 값의 차이를 계산하고 시각화 하라"
   ]
  },
  {
   "cell_type": "markdown",
   "metadata": {},
   "source": [
    "## 1-1. EDA & 결측치 및 이상치를 판단하고 처리하라"
   ]
  },
  {
   "cell_type": "code",
   "execution_count": 13,
   "metadata": {},
   "outputs": [
    {
     "name": "stdout",
     "output_type": "stream",
     "text": [
      "<class 'pandas.core.frame.DataFrame'>\n",
      "RangeIndex: 2111 entries, 0 to 2110\n",
      "Data columns (total 19 columns):\n",
      " #   Column                          Non-Null Count  Dtype  \n",
      "---  ------                          --------------  -----  \n",
      " 0   id                              2111 non-null   object \n",
      " 1   Gender                          2111 non-null   object \n",
      " 2   Age                             2111 non-null   int64  \n",
      " 3   Height                          2111 non-null   float64\n",
      " 4   Weight                          2111 non-null   int64  \n",
      " 5   family_history_with_overweight  2111 non-null   object \n",
      " 6   FAVC                            2111 non-null   object \n",
      " 7   FCVC                            2111 non-null   object \n",
      " 8   NCP                             2111 non-null   int64  \n",
      " 9   CAEC                            2111 non-null   object \n",
      " 10  SMOKE                           2111 non-null   object \n",
      " 11  CH2O                            2111 non-null   object \n",
      " 12  SCC                             2111 non-null   object \n",
      " 13  FAF                             2111 non-null   object \n",
      " 14  TUE                             2111 non-null   object \n",
      " 15  CALC                            2111 non-null   object \n",
      " 16  MTRANS                          2111 non-null   object \n",
      " 17  NObeyesdad                      2111 non-null   object \n",
      " 18  BMI                             2111 non-null   float64\n",
      "dtypes: float64(2), int64(3), object(14)\n",
      "memory usage: 313.5+ KB\n",
      "None\n",
      "               Age       Height       Weight          NCP          BMI\n",
      "count  2111.000000  2111.000000  2111.000000  2111.000000  2111.000000\n",
      "mean     24.315964     1.701677    86.588820     2.687826    29.700159\n",
      "std       6.357078     0.093305    26.188572     0.809680     8.011337\n",
      "min      14.000000     1.450000    39.000000     1.000000    12.998685\n",
      "25%      20.000000     1.630000    65.500000     3.000000    24.325802\n",
      "50%      23.000000     1.700499    83.000000     3.000000    28.719089\n",
      "75%      26.000000     1.768464   107.000000     3.000000    36.016501\n",
      "max      61.000000     1.980000   173.000000     4.000000    50.811753\n",
      "결측치 개수:\n",
      " id                                0\n",
      "Gender                            0\n",
      "Age                               0\n",
      "Height                            0\n",
      "Weight                            0\n",
      "family_history_with_overweight    0\n",
      "FAVC                              0\n",
      "FCVC                              0\n",
      "NCP                               0\n",
      "CAEC                              0\n",
      "SMOKE                             0\n",
      "CH2O                              0\n",
      "SCC                               0\n",
      "FAF                               0\n",
      "TUE                               0\n",
      "CALC                              0\n",
      "MTRANS                            0\n",
      "NObeyesdad                        0\n",
      "BMI                               0\n",
      "dtype: int64\n"
     ]
    },
    {
     "data": {
      "image/png": "[encoded data removed]",
      "text/plain": [
       "<Figure size 640x480 with 1 Axes>"
      ]
     },
     "metadata": {},
     "output_type": "display_data"
    },
    {
     "data": {
      "image/png": "[encoded data removed]",
      "text/plain": [
       "<Figure size 640x480 with 1 Axes>"
      ]
     },
     "metadata": {},
     "output_type": "display_data"
    }
   ],
   "source": [
    "import pandas as pd\n",
    "import matplotlib.pyplot as plt\n",
    "import seaborn as sns\n",
    "\n",
    "# 데이터 로드\n",
    "df = pd.read_csv(r\"data\\ObesityDataSet_cleaned_and_data_sinthetic.csv\")\n",
    "\n",
    "print(df.info())\n",
    "print(df.describe())\n",
    "\n",
    "# 결측치 탐지\n",
    "missing_values = df.isnull().sum()\n",
    "print('결측치 개수:\\n', missing_values)\n",
    "\n",
    "# 이상치 탐지 (BMI 변수 예시)\n",
    "sns.boxplot(df['BMI'])\n",
    "plt.title('BMI outlier')\n",
    "plt.show()\n",
    "\n",
    "# 이상치 처리 (IQR방식을 이용한 Winsorization)\n",
    "q1 = df['BMI'].quantile(0.25)\n",
    "q3 = df['BMI'].quantile(0.75)\n",
    "iqr = q3 - q1\n",
    "lower_bound = q1 - 1.5 * iqr\n",
    "upper_bound = q3 + 1.5 * iqr\n",
    "df['BMI'] = df['BMI'].clip(lower_bound, upper_bound)\n",
    "\n",
    "# 처리 후 확인\n",
    "sns.boxplot(df['BMI'])\n",
    "plt.title('BMI handle outlier')\n",
    "plt.show()"
   ]
  },
  {
   "cell_type": "markdown",
   "metadata": {},
   "source": [
    "한 번에 처리"
   ]
  },
  {
   "cell_type": "code",
   "execution_count": 14,
   "metadata": {},
   "outputs": [
    {
     "name": "stdout",
     "output_type": "stream",
     "text": [
      "<class 'pandas.core.frame.DataFrame'>\n",
      "RangeIndex: 2111 entries, 0 to 2110\n",
      "Data columns (total 19 columns):\n",
      " #   Column                          Non-Null Count  Dtype  \n",
      "---  ------                          --------------  -----  \n",
      " 0   id                              2111 non-null   object \n",
      " 1   Gender                          2111 non-null   object \n",
      " 2   Age                             2111 non-null   int64  \n",
      " 3   Height                          2111 non-null   float64\n",
      " 4   Weight                          2111 non-null   int64  \n",
      " 5   family_history_with_overweight  2111 non-null   object \n",
      " 6   FAVC                            2111 non-null   object \n",
      " 7   FCVC                            2111 non-null   object \n",
      " 8   NCP                             2111 non-null   int64  \n",
      " 9   CAEC                            2111 non-null   object \n",
      " 10  SMOKE                           2111 non-null   object \n",
      " 11  CH2O                            2111 non-null   object \n",
      " 12  SCC                             2111 non-null   object \n",
      " 13  FAF                             2111 non-null   object \n",
      " 14  TUE                             2111 non-null   object \n",
      " 15  CALC                            2111 non-null   object \n",
      " 16  MTRANS                          2111 non-null   object \n",
      " 17  NObeyesdad                      2111 non-null   object \n",
      " 18  BMI                             2111 non-null   float64\n",
      "dtypes: float64(2), int64(3), object(14)\n",
      "memory usage: 313.5+ KB\n",
      "None\n",
      "               Age       Height       Weight          NCP          BMI\n",
      "count  2111.000000  2111.000000  2111.000000  2111.000000  2111.000000\n",
      "mean     24.315964     1.701677    86.588820     2.687826    29.700159\n",
      "std       6.357078     0.093305    26.188572     0.809680     8.011337\n",
      "min      14.000000     1.450000    39.000000     1.000000    12.998685\n",
      "25%      20.000000     1.630000    65.500000     3.000000    24.325802\n",
      "50%      23.000000     1.700499    83.000000     3.000000    28.719089\n",
      "75%      26.000000     1.768464   107.000000     3.000000    36.016501\n",
      "max      61.000000     1.980000   173.000000     4.000000    50.811753\n",
      "결측치 개수:\n",
      " id                                0\n",
      "Gender                            0\n",
      "Age                               0\n",
      "Height                            0\n",
      "Weight                            0\n",
      "family_history_with_overweight    0\n",
      "FAVC                              0\n",
      "FCVC                              0\n",
      "NCP                               0\n",
      "CAEC                              0\n",
      "SMOKE                             0\n",
      "CH2O                              0\n",
      "SCC                               0\n",
      "FAF                               0\n",
      "TUE                               0\n",
      "CALC                              0\n",
      "MTRANS                            0\n",
      "NObeyesdad                        0\n",
      "BMI                               0\n",
      "dtype: int64\n",
      "Age 처리 완료: 하한 11.0, 상한 35.0\n",
      "Height 처리 완료: 하한 1.4223039999999996, 상한 1.9761600000000001\n",
      "Weight 처리 완료: 하한 3.25, 상한 169.25\n",
      "NCP 처리 완료: 하한 3.0, 상한 3.0\n",
      "BMI 처리 완료: 하한 6.789753367500005, 상한 53.552549307499994\n"
     ]
    },
    {
     "data": {
      "image/png": "[encoded data removed]",
      "text/plain": [
       "<Figure size 640x480 with 1 Axes>"
      ]
     },
     "metadata": {},
     "output_type": "display_data"
    }
   ],
   "source": [
    "import pandas as pd\n",
    "import matplotlib.pyplot as plt\n",
    "import seaborn as sns\n",
    "\n",
    "# 데이터 로드\n",
    "df = pd.read_csv(r\"data\\ObesityDataSet_cleaned_and_data_sinthetic.csv\")\n",
    "\n",
    "print(df.info())\n",
    "print(df.describe())\n",
    "\n",
    "# 결측치 탐지\n",
    "missing_values = df.isnull().sum()\n",
    "print('결측치 개수:\\n', missing_values)\n",
    "\n",
    "# 이상치 탐지 및 처리 (모든 수치형 컬럼에 대해 IQR 방식 적용)\n",
    "numeric_columns = df.select_dtypes(include=['float64', 'int64']).columns  # 수치형 컬럼만 선택\n",
    "\n",
    "for col in numeric_columns:\n",
    "    q1 = df[col].quantile(0.25)  # 1분위\n",
    "    q3 = df[col].quantile(0.75)  # 3분위\n",
    "    iqr = q3 - q1                # IQR 계산\n",
    "    lower_bound = q1 - 1.5 * iqr # 하한선\n",
    "    upper_bound = q3 + 1.5 * iqr # 상한선\n",
    "    \n",
    "    # 이상치 처리 (Winsorization)\n",
    "    df[col] = df[col].clip(lower_bound, upper_bound)\n",
    "\n",
    "    print(f\"{col} 처리 완료: 하한 {lower_bound}, 상한 {upper_bound}\")\n",
    "\n",
    "# 이상치 처리 후 시각화 (예시: BMI)\n",
    "sns.boxplot(df['BMI'])\n",
    "plt.title('BMI after outlier handling')\n",
    "plt.show()"
   ]
  },
  {
   "cell_type": "code",
   "execution_count": 2,
   "metadata": {},
   "outputs": [
    {
     "name": "stdout",
     "output_type": "stream",
     "text": [
      "Categorical columns: Index(['id', 'Gender', 'family_history_with_overweight', 'FAVC', 'FCVC',\n",
      "       'CAEC', 'SMOKE', 'CH2O', 'SCC', 'FAF', 'TUE', 'CALC', 'MTRANS',\n",
      "       'NObeyesdad'],\n",
      "      dtype='object')\n",
      "id: 2111 unique values\n",
      "Gender: 2 unique values\n",
      "family_history_with_overweight: 2 unique values\n",
      "FAVC: 2 unique values\n",
      "FCVC: 3 unique values\n",
      "CAEC: 4 unique values\n",
      "SMOKE: 2 unique values\n",
      "CH2O: 3 unique values\n",
      "SCC: 2 unique values\n",
      "FAF: 4 unique values\n",
      "TUE: 3 unique values\n",
      "CALC: 4 unique values\n",
      "MTRANS: 5 unique values\n",
      "NObeyesdad: 7 unique values\n"
     ]
    }
   ],
   "source": [
    "# object 열 확인\n",
    "categorical_columns = df.select_dtypes(include=['object']).columns\n",
    "print(\"Categorical columns:\", categorical_columns)\n",
    "for col in categorical_columns:\n",
    "    print(f\"{col}: {df[col].nunique()} unique values\")"
   ]
  },
  {
   "cell_type": "code",
   "execution_count": 3,
   "metadata": {},
   "outputs": [
    {
     "name": "stdout",
     "output_type": "stream",
     "text": [
      "['0' '4 to 5' '2 to 4' '1 to 2']\n",
      "['3 to 5' '0 to 2' '>5']\n",
      "[0.  4.5 3.  1.5]\n",
      "[4. 1. 6.]\n"
     ]
    },
    {
     "name": "stderr",
     "output_type": "stream",
     "text": [
      "C:\\Users\\USER\\AppData\\Local\\Temp\\ipykernel_28804\\1063813728.py:5: FutureWarning: Downcasting behavior in `replace` is deprecated and will be removed in a future version. To retain the old behavior, explicitly call `result.infer_objects(copy=False)`. To opt-in to the future behavior, set `pd.set_option('future.no_silent_downcasting', True)`\n",
      "  df['FAF'] = df['FAF'].replace({'0': 0, '1 to 2': 1.5, '2 to 4': 3, '4 to 5': 4.5}).astype(float)\n",
      "C:\\Users\\USER\\AppData\\Local\\Temp\\ipykernel_28804\\1063813728.py:6: FutureWarning: Downcasting behavior in `replace` is deprecated and will be removed in a future version. To retain the old behavior, explicitly call `result.infer_objects(copy=False)`. To opt-in to the future behavior, set `pd.set_option('future.no_silent_downcasting', True)`\n",
      "  df['TUE'] = df['TUE'].replace({'0 to 2': 1, '3 to 5': 4, '>5': 6}).astype(float)\n"
     ]
    }
   ],
   "source": [
    "# FAF, TUE 데이터 내용 확인 (수치형이 아님)\n",
    "print(df['FAF'].unique())\n",
    "print(df['TUE'].unique())\n",
    "\n",
    "df['FAF'] = df['FAF'].replace({'0': 0, '1 to 2': 1.5, '2 to 4': 3, '4 to 5': 4.5}).astype(float)\n",
    "df['TUE'] = df['TUE'].replace({'0 to 2': 1, '3 to 5': 4, '>5': 6}).astype(float)\n",
    "\n",
    "print(df['FAF'].unique())\n",
    "print(df['TUE'].unique())"
   ]
  },
  {
   "cell_type": "code",
   "execution_count": 4,
   "metadata": {},
   "outputs": [
    {
     "name": "stdout",
     "output_type": "stream",
     "text": [
      "   Gender  family_history_with_overweight  FCVC  FAVC  CAEC  CH2O  CALC  \\\n",
      "0       0                               1     2     0     3     0     2   \n",
      "1       0                               1     0     0     3     2     3   \n",
      "2       1                               1     2     0     3     0     1   \n",
      "3       1                               0     0     0     3     0     1   \n",
      "4       1                               0     2     0     3     0     3   \n",
      "\n",
      "   MTRANS  SMOKE  SCC  \n",
      "0       3      0    0  \n",
      "1       3      1    1  \n",
      "2       3      0    0  \n",
      "3       4      0    0  \n",
      "4       3      0    0  \n",
      "               Age       Height       Weight          BMI          FAF  \\\n",
      "count  2111.000000  2111.000000  2111.000000  2111.000000  2111.000000   \n",
      "mean      0.219489     0.474863     0.355140     0.441685     0.335544   \n",
      "std       0.135257     0.176047     0.195437     0.211867     0.298487   \n",
      "min       0.000000     0.000000     0.000000     0.000000     0.000000   \n",
      "25%       0.127660     0.339623     0.197761     0.299556     0.000000   \n",
      "50%       0.191489     0.472640     0.328358     0.415740     0.333333   \n",
      "75%       0.255319     0.600875     0.507463     0.608726     0.666667   \n",
      "max       1.000000     1.000000     1.000000     1.000000     1.000000   \n",
      "\n",
      "               TUE  \n",
      "count  2111.000000  \n",
      "mean      0.375651  \n",
      "std       0.361349  \n",
      "min       0.000000  \n",
      "25%       0.000000  \n",
      "50%       0.600000  \n",
      "75%       0.600000  \n",
      "max       1.000000  \n"
     ]
    }
   ],
   "source": [
    "from sklearn.preprocessing import LabelEncoder, MinMaxScaler\n",
    "\n",
    "# 1. 라벨 인코딩\n",
    "label_cols = ['Gender', 'family_history_with_overweight','FCVC', 'FAVC', 'CAEC', 'CH2O', 'CALC', 'MTRANS', 'SMOKE', 'SCC']\n",
    "label_encoders = {}\n",
    "\n",
    "for col in label_cols:\n",
    "    le = LabelEncoder()\n",
    "    df[col] = le.fit_transform(df[col])\n",
    "    label_encoders[col] = le # 추후 디코딩 용 저장\n",
    "\n",
    "# 결과 확인\n",
    "print(df[label_cols].head())\n",
    "\n",
    "# 2. Min-Max 스케일링\n",
    "scaler = MinMaxScaler()\n",
    "scale_cols = ['Age', 'Height', 'Weight', 'BMI', 'FAF', 'TUE']\n",
    "df[scale_cols] = scaler.fit_transform(df[scale_cols])\n",
    "\n",
    "# 결과 확인\n",
    "print(df[scale_cols].describe())"
   ]
  },
  {
   "cell_type": "markdown",
   "metadata": {},
   "source": [
    "효과 설명\n",
    "\n",
    "1. 라벨 인코딩 :\n",
    "- 범주형 변수는 머신러닝 모델에서 직접 처리되지 않으므로 숫자로 변환이 필수적임\n",
    "- 라벨 인코딩은 간단하고 빠르며, 특히 이진 변수에 적합하다. 다만, 다중 클래스의 경우 숫자 크기로 인해 의도치 않은 순서를 학습할 위험이 있어 주의해야 한다.\n",
    "\n",
    "2. Min-Max 스케일링 :\n",
    "- 변수가 서로 다른 범위를 가지는 경우, 모델 학습에서 일부 변수가 더 큰 영향을 미치게 된다.\n",
    "- Min-Max 스케일링은 데이터를 동일한 범위(0~1)로 맞춰 모델의 안정성을 향상시키고, 특히 SVM, KNN과 같은 거리 기반 알고리즘에서 중요한 역할을 한다."
   ]
  },
  {
   "cell_type": "markdown",
   "metadata": {},
   "source": [
    "## 1-3. 피쳐 엔지니어링을 통해 파생변수 1개를 생성하고 그 이유를 말하라"
   ]
  },
  {
   "cell_type": "code",
   "execution_count": 5,
   "metadata": {},
   "outputs": [
    {
     "name": "stdout",
     "output_type": "stream",
     "text": [
      "        BMI  family_history_with_overweight       FAF       ARI\n",
      "0  0.301162                             1.0  0.000000  0.451742\n",
      "1  0.297240                             1.0  1.000000  0.222930\n",
      "2  0.284736                             1.0  0.666667  0.256263\n",
      "3  0.366359                             0.0  0.666667  0.219816\n",
      "4  0.405778                             0.0  0.000000  0.405778\n"
     ]
    },
    {
     "data": {
      "image/png": "[encoded data removed]",
      "text/plain": [
       "<Figure size 800x600 with 1 Axes>"
      ]
     },
     "metadata": {},
     "output_type": "display_data"
    }
   ],
   "source": [
    "# 파생변수 생성\n",
    "df['family_history_with_overweight'] = df['family_history_with_overweight'].astype(float)\n",
    "df['ARI'] = (df['BMI'] * (1 + 0.5 * df['family_history_with_overweight'])) / (1 + df['FAF'])\n",
    "\n",
    "# 결과 확인\n",
    "print(df[['BMI', 'family_history_with_overweight', 'FAF', 'ARI']].head())\n",
    "\n",
    "# ARI 분포 시각화\n",
    "import matplotlib.pyplot as plt\n",
    "import seaborn as sns\n",
    "\n",
    "plt.figure(figsize=(8, 6))\n",
    "sns.histplot(df['ARI'], kde=True, bins=20)\n",
    "plt.title('Distribution of Activity Risk Index (ARI)')\n",
    "plt.xlabel('ARI')\n",
    "plt.ylabel('Frequency')\n",
    "plt.show()"
   ]
  },
  {
   "cell_type": "markdown",
   "metadata": {},
   "source": [
    "1. ARI 정의 및 공식\n",
    "**Activity Risk Index (ARI)**는 개인의 비만 위험을 정량적으로 평가하기 위해 만들어진 파생 변수입니다. 이는 다음 세 가지 주요 요소를 기반으로 계산됩니다:\n",
    "\n",
    "- BMI (Body Mass Index):\n",
    "    - 비만의 대표적인 지표로, 체중(kg)을 키(m)의 제곱으로 나눈 값입니다.\n",
    "    - BMI가 높을수록 비만 위험이 크며, ARI에서 위험의 핵심 요소로 작용합니다.\n",
    "\n",
    "- family_history_with_overweight (가족 병력):\n",
    "    - 비만 가족력이 있는 사람은 유전적, 환경적 요인으로 인해 비만 위험이 더 높습니다.\n",
    "    - 이 값을 0 (병력 없음) 또는 1 (병력 있음)으로 사용하며, 가족 병력이 있을 경우 ARI에 가중치로 반영됩니다.\n",
    "\n",
    "- FAF (Physical Activity Frequency):\n",
    "    - 주간 신체 활동 빈도를 나타냅니다.\n",
    "    - 활동 빈도가 높을수록 비만 위험이 낮아지며, ARI 계산식에서 이를 분모로 사용해 위험을 낮추는 역할을 합니다."
   ]
  },
  {
   "cell_type": "code",
   "execution_count": 6,
   "metadata": {},
   "outputs": [
    {
     "name": "stdout",
     "output_type": "stream",
     "text": [
      "Logistic Regression:\n",
      "                     precision    recall  f1-score   support\n",
      "\n",
      "insufficient_weight       0.82      0.97      0.89        86\n",
      "      normal_weight       0.74      0.52      0.61        93\n",
      "     obesity_type_i       0.83      0.76      0.80       102\n",
      "    obesity_type_ii       0.84      0.97      0.90        88\n",
      "   obesity_type_iii       0.95      0.99      0.97        98\n",
      " overweight_level_i       0.67      0.64      0.65        88\n",
      "overweight_level_ii       0.64      0.71      0.67        79\n",
      "\n",
      "           accuracy                           0.79       634\n",
      "          macro avg       0.78      0.79      0.78       634\n",
      "       weighted avg       0.79      0.79      0.79       634\n",
      "\n",
      "Accuracy: 0.7933753943217665\n",
      "\n",
      "Support Vector Machine:\n",
      "                     precision    recall  f1-score   support\n",
      "\n",
      "insufficient_weight       0.84      0.99      0.91        86\n",
      "      normal_weight       0.90      0.65      0.75        93\n",
      "     obesity_type_i       0.99      0.95      0.97       102\n",
      "    obesity_type_ii       0.95      1.00      0.97        88\n",
      "   obesity_type_iii       1.00      0.99      0.99        98\n",
      " overweight_level_i       0.78      0.80      0.79        88\n",
      "overweight_level_ii       0.80      0.89      0.84        79\n",
      "\n",
      "           accuracy                           0.89       634\n",
      "          macro avg       0.89      0.89      0.89       634\n",
      "       weighted avg       0.90      0.89      0.89       634\n",
      "\n",
      "Accuracy: 0.8943217665615142\n",
      "\n",
      "K-Nearest Neighbors:\n",
      "                     precision    recall  f1-score   support\n",
      "\n",
      "insufficient_weight       0.66      0.77      0.71        86\n",
      "      normal_weight       0.58      0.45      0.51        93\n",
      "     obesity_type_i       0.60      0.68      0.64       102\n",
      "    obesity_type_ii       0.78      0.95      0.86        88\n",
      "   obesity_type_iii       0.97      0.99      0.98        98\n",
      " overweight_level_i       0.64      0.48      0.55        88\n",
      "overweight_level_ii       0.58      0.53      0.56        79\n",
      "\n",
      "           accuracy                           0.70       634\n",
      "          macro avg       0.69      0.69      0.68       634\n",
      "       weighted avg       0.69      0.70      0.69       634\n",
      "\n",
      "Accuracy: 0.6971608832807571\n"
     ]
    }
   ],
   "source": [
    "from sklearn.model_selection import train_test_split\n",
    "from sklearn.linear_model import LogisticRegression\n",
    "from sklearn.svm import SVC\n",
    "from sklearn.neighbors import KNeighborsClassifier\n",
    "from sklearn.metrics import classification_report, accuracy_score\n",
    "import pandas as pd\n",
    "\n",
    "# 데이터 준비\n",
    "X = df.drop(['NObeyesdad', 'id'], axis=1) # 종속변수, id 제외\n",
    "y = df['NObeyesdad'] # 종속변수\n",
    "\n",
    "# 데이터 분석\n",
    "X_train, X_test, y_train, y_test = train_test_split(X, y, test_size=0.3, random_state=42)\n",
    "\n",
    "# 1.로지스틱 회귀\n",
    "log_reg = LogisticRegression(max_iter=1000, random_state=42)\n",
    "log_reg.fit(X_train, y_train)\n",
    "y_pred_log = log_reg.predict(X_test)\n",
    "\n",
    "# 2. 서포트 벡터 머신\n",
    "svm_model = SVC(kernel='linear', random_state=42)\n",
    "svm_model.fit(X_train, y_train)\n",
    "y_pred_svm = svm_model.predict(X_test)\n",
    "\n",
    "# 3. K-NearestNeighbors\n",
    "knn_model = KNeighborsClassifier(n_neighbors=5)\n",
    "knn_model.fit(X_train, y_train)\n",
    "y_pred_knn = knn_model.predict(X_test)\n",
    "\n",
    "# 결과 비교\n",
    "print(\"Logistic Regression:\")\n",
    "print(classification_report(y_test, y_pred_log))\n",
    "print(\"Accuracy:\", accuracy_score(y_test, y_pred_log))\n",
    "\n",
    "print(\"\\nSupport Vector Machine:\")\n",
    "print(classification_report(y_test, y_pred_svm))\n",
    "print(\"Accuracy:\", accuracy_score(y_test, y_pred_svm))\n",
    "\n",
    "print(\"\\nK-Nearest Neighbors:\")\n",
    "print(classification_report(y_test, y_pred_knn))\n",
    "print(\"Accuracy:\", accuracy_score(y_test, y_pred_knn))"
   ]
  },
  {
   "cell_type": "code",
   "execution_count": 7,
   "metadata": {},
   "outputs": [
    {
     "name": "stdout",
     "output_type": "stream",
     "text": [
      "Categorical columns: Index(['id', 'NObeyesdad'], dtype='object')\n",
      "id: 2111 unique values\n",
      "NObeyesdad: 7 unique values\n"
     ]
    }
   ],
   "source": [
    "# object 열 확인\n",
    "categorical_columns = df.select_dtypes(include=['object']).columns\n",
    "print(\"Categorical columns:\", categorical_columns)\n",
    "for col in categorical_columns:\n",
    "    print(f\"{col}: {df[col].nunique()} unique values\")"
   ]
  },
  {
   "cell_type": "markdown",
   "metadata": {},
   "source": [
    "### 가장 성능이 좋은 모델 : SVM\n",
    "Accuracy: 0.8943217665615142"
   ]
  },
  {
   "cell_type": "markdown",
   "metadata": {},
   "source": [
    "# 2-2. 2-1에서 사용한 모델 중 하나를 골라 그리드 서치를 통해서 파라미터 튜닝 및 분류 모델 성능 평가 (precision ,recall)"
   ]
  },
  {
   "cell_type": "markdown",
   "metadata": {},
   "source": [
    "- SVM의 하이퍼파라미터 탐색\n",
    "- 성능 지표(Precision, Recall, F1-Score)"
   ]
  },
  {
   "cell_type": "markdown",
   "metadata": {},
   "source": [
    "### 튜닝 대상\n",
    "1. C(Regularization Parameter)\n",
    "2. Kernel : 선형(linear), 다항식(poly), RBF(rbf), 시그모이드(sigmoid) 등을 탐색\n",
    "3. Gamma: RBF, 다항식, 시그모이드 커널에서 사용하는 파라미터"
   ]
  },
  {
   "cell_type": "code",
   "execution_count": 8,
   "metadata": {},
   "outputs": [
    {
     "name": "stdout",
     "output_type": "stream",
     "text": [
      "Fitting 5 folds for each of 80 candidates, totalling 400 fits\n",
      "Best Parameter: {'C': 100, 'gamma': 'scale', 'kernel': 'linear'}\n",
      "Best f1_score: 0.9608353261711325\n",
      "classification report for best svm                      precision    recall  f1-score   support\n",
      "\n",
      "insufficient_weight       0.98      0.97      0.97        86\n",
      "      normal_weight       0.97      0.95      0.96        93\n",
      "     obesity_type_i       0.99      0.96      0.98       102\n",
      "    obesity_type_ii       0.95      1.00      0.97        88\n",
      "   obesity_type_iii       1.00      0.99      0.99        98\n",
      " overweight_level_i       0.93      0.97      0.95        88\n",
      "overweight_level_ii       0.96      0.95      0.96        79\n",
      "\n",
      "           accuracy                           0.97       634\n",
      "          macro avg       0.97      0.97      0.97       634\n",
      "       weighted avg       0.97      0.97      0.97       634\n",
      "\n",
      "Accuracy 0.9684542586750788\n",
      "Precision 0.967891928558776\n",
      "Recall 0.9681727499741536\n",
      "F1 0.9678269313953516\n"
     ]
    }
   ],
   "source": [
    "from sklearn.model_selection import GridSearchCV\n",
    "from sklearn.svm import SVC\n",
    "from sklearn.metrics import classification_report, accuracy_score, precision_score, recall_score, f1_score\n",
    "\n",
    "# 하이퍼파라미터 탐색 공간\n",
    "\n",
    "\"\"\"\n",
    "1. C(Regularization Parameter)\n",
    "정규화 를 작게 (C=0.1) 마진을 넓게 설정하여 단순한 모델을 생성\n",
    "과대적합 방지에 유리하나 과소적합 위험 존재\n",
    "정규화를 크게 (C=100) 낮은 정규화 정도를 적용하여 데이터 점수를 더 잘 맞추는 모델을 생성\n",
    "\n",
    "2. kernal 유형\n",
    "데이터를 매핑하여 더 높은 차원 공간에서 선형적으로 분리될 수 있도록 하는 함수\n",
    "linear(선형 커널) :\n",
    "    - 데이터가 고차원 변환 없이도 선형적으로 분리 가능한 경우 적합\n",
    "    - 계산 비용이 적어 대규모 데이터에 적합\n",
    "\n",
    "rbf(Radial Basis Function) : \n",
    "    - 비선형 데이터를 처리하기 위해 자주 사용되는 기본 커널\n",
    "    - 고차원으로 매핑하여 복잡한 데이터 분포 처리-\n",
    "    - 결정 경계가 부드럽고 유연\n",
    "\n",
    "poly(다항식 커널) :\n",
    "    - 데이터의 다항 관계를 학습\n",
    "    - 다항식 차수(degree)를 설정해야 하며, 차수가 클수록 복잡한 경계 생성\n",
    "\n",
    "sigmoid(시그모이드 커널):\n",
    "    - 데이터가 S-곡선을 따르는 경우 적합\n",
    "    - 뉴럴 네트워크의 활성화 함수와 유사\n",
    "\n",
    "rbf는 데이터 분포가 복잡하거나 클래스 경계가 비선형인 경우 일반적으로 우수한 성능을 보임\n",
    "linear는 데이터가 단순 분리가 가능한 경우 적합.\n",
    "\n",
    "3. gamma\n",
    "rbf, 다항식, 시그모이드 커널에서 결정 경계의 복잡성을 제어하는 파라미터\n",
    "- 작은 값 (gamma=0.01):\n",
    "    - 결정 경계가 부드러워지고, 더 많은 데이터 포인트를 고려\n",
    "    - 단순한 모델을 생성 -> 과적합 방지\n",
    "\n",
    "- 큰 값(gamma=1):\n",
    "    - 결정 경계가 복잡해지며, 각 데이터 포인트에 민감\n",
    "    - 복잡한 데이터 패턴을 잘 학습하지만 과적함 위험\n",
    "\n",
    "활용 : 데이터가 복잡하거나 경계가 세밀한 경우에는 높은 gamma를, 일반적인 경우에는 gamma를 선택 \n",
    "\n",
    "\"\"\"\n",
    "\n",
    "param_grid = {\n",
    "    'C' : [0.1, 1, 10, 100], # 정규화 강도\n",
    "    'kernel' : ['linear', 'rbf', 'poly', 'sigmoid'], # 커널 종류\n",
    "    'gamma' : ['scale', 'auto', 0.01, 0.1, 1] # 감마 값\n",
    "}\n",
    "\n",
    "# SVM 모델 정의\n",
    "# soft-voting 위해 probability=True\n",
    "svm = SVC(probability=True, random_state=42)\n",
    "\n",
    "# GridSearchCV 설정\n",
    "# n_jobs : GridSearchCV에서 사용되는 CPU 코어 수를 설정하는 파라미터 기본값은 None(단일 코어), n_jobs=-1 -> 모든 코어 병렬 처리리\n",
    "grid_search = GridSearchCV(estimator=svm, param_grid=param_grid, cv=5, scoring='f1_macro', verbose=1, n_jobs=-1)\n",
    "\n",
    "# 모델 학습\n",
    "grid_search.fit(X_train, y_train)\n",
    "\n",
    "# 최적의 파라미터 출력\n",
    "print(\"Best Parameter:\", grid_search.best_params_)\n",
    "print(\"Best f1_score:\", grid_search.best_score_)\n",
    "\n",
    "# 최적의 모델로 데이터 평가\n",
    "best_svm = grid_search.best_estimator_\n",
    "y_pred_svm = best_svm.predict(X_test)\n",
    "\n",
    "# 평가 지표 출력\n",
    "print(\"classification report for best svm\", classification_report(y_test, y_pred_svm))\n",
    "print(\"Accuracy\", accuracy_score(y_test, y_pred_svm))\n",
    "print(\"Precision\", precision_score(y_test, y_pred_svm, average='macro'))\n",
    "print(\"Recall\", recall_score(y_test, y_pred_svm, average='macro'))\n",
    "print(\"F1\", f1_score(y_test, y_pred_svm, average='macro'))"
   ]
  },
  {
   "cell_type": "markdown",
   "metadata": {},
   "source": [
    "### [참고] 다른 하이퍼파라미터 튜닝 방법\n",
    "- 랜덤 서치 \n",
    "- 베이지안 최적화 (라이브러리 : optuna, Scickit-Optimize)\n",
    "- 하이퍼밴드 (라이브러리 : Optuna Hyperband)\n",
    "- 그리디 서치 (Optuna Huperband)\n",
    "- 진화 알고리즘 (DEAP)\n"
   ]
  },
  {
   "cell_type": "markdown",
   "metadata": {},
   "source": [
    "# 2-3. 2-1의 3가지 모델을 soft voting을 이용하여 모델링 한 결과와 2-2과 비교하라\n",
    "각 모델이 출력한 클래스의 확률 값을 평균내어 최종 클래스를 결정\n"
   ]
  },
  {
   "cell_type": "code",
   "execution_count": 9,
   "metadata": {},
   "outputs": [
    {
     "name": "stdout",
     "output_type": "stream",
     "text": [
      "Soft Voting Classifier:\n",
      "                     precision    recall  f1-score   support\n",
      "\n",
      "insufficient_weight       0.89      0.98      0.93        86\n",
      "      normal_weight       0.80      0.71      0.75        93\n",
      "     obesity_type_i       0.91      0.86      0.88       102\n",
      "    obesity_type_ii       0.88      0.99      0.93        88\n",
      "   obesity_type_iii       0.97      0.99      0.98        98\n",
      " overweight_level_i       0.73      0.69      0.71        88\n",
      "overweight_level_ii       0.76      0.76      0.76        79\n",
      "\n",
      "           accuracy                           0.86       634\n",
      "          macro avg       0.85      0.85      0.85       634\n",
      "       weighted avg       0.85      0.86      0.85       634\n",
      "\n",
      "Accuracy: 0.8564668769716088\n",
      "Precision: 0.8498475533732205\n",
      "Recall: 0.8543249249303102\n",
      "F1-Score: 0.8507520549537126\n"
     ]
    }
   ],
   "source": [
    "from sklearn.ensemble import VotingClassifier\n",
    "from sklearn.linear_model import LogisticRegression\n",
    "from sklearn.svm import SVC\n",
    "from sklearn.neighbors import KNeighborsClassifier\n",
    "from sklearn.metrics import classification_report, accuracy_score, precision_score, recall_score, f1_score\n",
    "\n",
    "# SoftVoting 앙상블 모델 구성\n",
    "voting_clf = VotingClassifier(\n",
    "    estimators=[\n",
    "        ('log_reg', LogisticRegression(max_iter=1000, random_state=42)),\n",
    "        ('svm', SVC(probability=True, random_state=42, kernel='rbf', C=10, gamma=0.1)), # 최적 파라미터\n",
    "        ('knn', KNeighborsClassifier(n_neighbors=5))\n",
    "    ],\n",
    "    voting='soft' # Soft Voting\n",
    ")\n",
    "\n",
    "# 모델 학습\n",
    "voting_clf.fit(X_train, y_train)\n",
    "\n",
    "# 예측 수행\n",
    "y_pred_voting = voting_clf.predict(X_test)\n",
    "\n",
    "# 성능 평가\n",
    "print(\"Soft Voting Classifier:\")\n",
    "print(classification_report(y_test, y_pred_voting))\n",
    "print(\"Accuracy:\", accuracy_score(y_test, y_pred_voting))\n",
    "print(\"Precision:\", precision_score(y_test, y_pred_voting, average='macro'))\n",
    "print(\"Recall:\", recall_score(y_test, y_pred_voting, average='macro'))\n",
    "print(\"F1-Score:\", f1_score(y_test, y_pred_voting, average='macro'))"
   ]
  },
  {
   "cell_type": "markdown",
   "metadata": {},
   "source": [
    "# 3-1. 하나의 모델을 선정하여 Drop Column Importance 방식으로 각 변수 별로 전체 컬럼을 포함한 모델과의 recall 값의 차이를 계산하고 시각화 하라"
   ]
  },
  {
   "cell_type": "code",
   "execution_count": 12,
   "metadata": {},
   "outputs": [
    {
     "name": "stdout",
     "output_type": "stream",
     "text": [
      "Base Recall: 0.8543\n"
     ]
    },
    {
     "data": {
      "image/png": "[encoded data removed]",
      "text/plain": [
       "<Figure size 1000x600 with 1 Axes>"
      ]
     },
     "metadata": {},
     "output_type": "display_data"
    }
   ],
   "source": [
    "import pandas as pd\n",
    "import numpy as np\n",
    "from sklearn.metrics import recall_score\n",
    "import matplotlib.pyplot as plt\n",
    "\n",
    "# 기본 성능 계산\n",
    "base_model = voting_clf  # Soft Voting 모델 사용\n",
    "base_model.fit(X_train, y_train)\n",
    "base_pred = base_model.predict(X_test)\n",
    "base_recall = recall_score(y_test, base_pred, average='macro')\n",
    "print(f\"Base Recall: {base_recall:.4f}\")\n",
    "\n",
    "# Drop Column Importance 계산\n",
    "importance_results = {}\n",
    "\n",
    "for col in X_train.columns:\n",
    "    # 특정 변수를 제거한 데이터 생성\n",
    "    X_train_drop = X_train.drop(columns=[col])\n",
    "    X_test_drop = X_test.drop(columns=[col])\n",
    "\n",
    "    # 모델 학습 및 평가\n",
    "    base_model.fit(X_train_drop, y_train)\n",
    "    drop_pred = base_model.predict(X_test_drop)\n",
    "    drop_recall = recall_score(y_test, drop_pred, average='macro')\n",
    "\n",
    "    # 중요도 저장\n",
    "    importance_results[col] = base_recall - drop_recall  # 올바르게 Recall 차이 계산\n",
    "\n",
    "# 결과 정렬 및 데이터프레임 생성\n",
    "importance_df = pd.DataFrame(list(importance_results.items()), columns=['Feature', 'Importance'])\n",
    "importance_df = importance_df.sort_values(by='Importance', ascending=False)\n",
    "\n",
    "# 중요도 시각화\n",
    "plt.figure(figsize=(10, 6))\n",
    "plt.barh(importance_df['Feature'], importance_df['Importance'], color='skyblue')\n",
    "plt.xlabel('Change in Recall')\n",
    "plt.ylabel('Feature')\n",
    "plt.title('Feature Importance (Drop Column Importance)')\n",
    "plt.gca().invert_yaxis()\n",
    "plt.show()\n"
   ]
  }
 ],
 "metadata": {
  "kernelspec": {
   "display_name": "ds_env",
   "language": "python",
   "name": "python3"
  },
  "language_info": {
   "codemirror_mode": {
    "name": "ipython",
    "version": 3
   },
   "file_extension": ".py",
   "mimetype": "text/x-python",
   "name": "python",
   "nbconvert_exporter": "python",
   "pygments_lexer": "ipython3",
   "version": "3.12.8"
  }
 },
 "nbformat": 4,
 "nbformat_minor": 2
}
