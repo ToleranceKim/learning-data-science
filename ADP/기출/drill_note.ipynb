{
 "cells": [
  {
   "cell_type": "code",
   "execution_count": 113,
   "metadata": {},
   "outputs": [
    {
     "name": "stdout",
     "output_type": "stream",
     "text": [
      "<class 'pandas.core.frame.DataFrame'>\n",
      "RangeIndex: 2111 entries, 0 to 2110\n",
      "Data columns (total 19 columns):\n",
      " #   Column                          Non-Null Count  Dtype  \n",
      "---  ------                          --------------  -----  \n",
      " 0   id                              2111 non-null   object \n",
      " 1   Gender                          2111 non-null   object \n",
      " 2   Age                             2111 non-null   int64  \n",
      " 3   Height                          2111 non-null   float64\n",
      " 4   Weight                          2111 non-null   int64  \n",
      " 5   family_history_with_overweight  2111 non-null   object \n",
      " 6   FAVC                            2111 non-null   object \n",
      " 7   FCVC                            2111 non-null   object \n",
      " 8   NCP                             2111 non-null   int64  \n",
      " 9   CAEC                            2111 non-null   object \n",
      " 10  SMOKE                           2111 non-null   object \n",
      " 11  CH2O                            2111 non-null   object \n",
      " 12  SCC                             2111 non-null   object \n",
      " 13  FAF                             2111 non-null   object \n",
      " 14  TUE                             2111 non-null   object \n",
      " 15  CALC                            2111 non-null   object \n",
      " 16  MTRANS                          2111 non-null   object \n",
      " 17  NObeyesdad                      2111 non-null   object \n",
      " 18  BMI                             2111 non-null   float64\n",
      "dtypes: float64(2), int64(3), object(14)\n",
      "memory usage: 313.5+ KB\n",
      "None\n",
      "               Age       Height       Weight          NCP          BMI\n",
      "count  2111.000000  2111.000000  2111.000000  2111.000000  2111.000000\n",
      "mean     24.315964     1.701677    86.588820     2.687826    29.700159\n",
      "std       6.357078     0.093305    26.188572     0.809680     8.011337\n",
      "min      14.000000     1.450000    39.000000     1.000000    12.998685\n",
      "25%      20.000000     1.630000    65.500000     3.000000    24.325802\n",
      "50%      23.000000     1.700499    83.000000     3.000000    28.719089\n",
      "75%      26.000000     1.768464   107.000000     3.000000    36.016501\n",
      "max      61.000000     1.980000   173.000000     4.000000    50.811753\n"
     ]
    }
   ],
   "source": [
    "import pandas as pd\n",
    "import matplotlib.pyplot as plt\n",
    "import seaborn as sns\n",
    "\n",
    "# 데이터 로드\n",
    "df = pd.read_csv(r\"data\\ObesityDataSet_cleaned_and_data_sinthetic.csv\")\n",
    "\n",
    "print(df.info())\n",
    "print(df.describe())\n"
   ]
  },
  {
   "cell_type": "code",
   "execution_count": 114,
   "metadata": {},
   "outputs": [
    {
     "name": "stdout",
     "output_type": "stream",
     "text": [
      "count    2111.000000\n",
      "mean        0.562609\n",
      "std         0.269893\n",
      "min         0.000000\n",
      "25%         0.666667\n",
      "50%         0.666667\n",
      "75%         0.666667\n",
      "max         1.000000\n",
      "Name: NCP, dtype: float64\n"
     ]
    }
   ],
   "source": [
    "from sklearn.preprocessing import MinMaxScaler\n",
    "scaler = MinMaxScaler()\n",
    "df['NCP'] = scaler.fit_transform(df[['NCP']])\n",
    "print(df['NCP'].describe())"
   ]
  },
  {
   "cell_type": "code",
   "execution_count": 115,
   "metadata": {},
   "outputs": [
    {
     "name": "stdout",
     "output_type": "stream",
     "text": [
      "        NCP  NCP_scaled\n",
      "0  0.666667    0.666667\n",
      "1  0.666667    0.666667\n",
      "2  0.666667    0.666667\n",
      "3  0.666667    0.666667\n",
      "4  0.000000    0.000000\n",
      "count    2111.000000\n",
      "mean        0.562609\n",
      "std         0.269893\n",
      "min         0.000000\n",
      "25%         0.666667\n",
      "50%         0.666667\n",
      "75%         0.666667\n",
      "max         1.000000\n",
      "Name: NCP_scaled, dtype: float64\n"
     ]
    }
   ],
   "source": [
    "ncp_min = df['NCP'].min()\n",
    "ncp_max = df['NCP'].max()\n",
    "\n",
    "df['NCP_scaled'] = (df['NCP'] - ncp_min) / (ncp_max - ncp_min)\n",
    "print(df[['NCP', 'NCP_scaled']].head())\n",
    "print(df['NCP_scaled'].describe())"
   ]
  },
  {
   "cell_type": "code",
   "execution_count": 116,
   "metadata": {},
   "outputs": [
    {
     "name": "stdout",
     "output_type": "stream",
     "text": [
      "<class 'pandas.core.frame.DataFrame'>\n",
      "RangeIndex: 2111 entries, 0 to 2110\n",
      "Data columns (total 20 columns):\n",
      " #   Column                          Non-Null Count  Dtype  \n",
      "---  ------                          --------------  -----  \n",
      " 0   id                              2111 non-null   object \n",
      " 1   Gender                          2111 non-null   object \n",
      " 2   Age                             2111 non-null   int64  \n",
      " 3   Height                          2111 non-null   float64\n",
      " 4   Weight                          2111 non-null   int64  \n",
      " 5   family_history_with_overweight  2111 non-null   object \n",
      " 6   FAVC                            2111 non-null   object \n",
      " 7   FCVC                            2111 non-null   object \n",
      " 8   NCP                             2111 non-null   float64\n",
      " 9   CAEC                            2111 non-null   object \n",
      " 10  SMOKE                           2111 non-null   object \n",
      " 11  CH2O                            2111 non-null   object \n",
      " 12  SCC                             2111 non-null   object \n",
      " 13  FAF                             2111 non-null   object \n",
      " 14  TUE                             2111 non-null   object \n",
      " 15  CALC                            2111 non-null   object \n",
      " 16  MTRANS                          2111 non-null   object \n",
      " 17  NObeyesdad                      2111 non-null   object \n",
      " 18  BMI                             2111 non-null   float64\n",
      " 19  NCP_scaled                      2111 non-null   float64\n",
      "dtypes: float64(4), int64(2), object(14)\n",
      "memory usage: 330.0+ KB\n",
      "None\n",
      "               Age       Height       Weight          NCP          BMI  \\\n",
      "count  2111.000000  2111.000000  2111.000000  2111.000000  2111.000000   \n",
      "mean     24.315964     1.701677    86.588820     0.562609    29.700159   \n",
      "std       6.357078     0.093305    26.188572     0.269893     8.011337   \n",
      "min      14.000000     1.450000    39.000000     0.000000    12.998685   \n",
      "25%      20.000000     1.630000    65.500000     0.666667    24.325802   \n",
      "50%      23.000000     1.700499    83.000000     0.666667    28.719089   \n",
      "75%      26.000000     1.768464   107.000000     0.666667    36.016501   \n",
      "max      61.000000     1.980000   173.000000     1.000000    50.811753   \n",
      "\n",
      "        NCP_scaled  \n",
      "count  2111.000000  \n",
      "mean      0.562609  \n",
      "std       0.269893  \n",
      "min       0.000000  \n",
      "25%       0.666667  \n",
      "50%       0.666667  \n",
      "75%       0.666667  \n",
      "max       1.000000  \n",
      "결측치:\n",
      " id                                0\n",
      "Gender                            0\n",
      "Age                               0\n",
      "Height                            0\n",
      "Weight                            0\n",
      "family_history_with_overweight    0\n",
      "FAVC                              0\n",
      "FCVC                              0\n",
      "NCP                               0\n",
      "CAEC                              0\n",
      "SMOKE                             0\n",
      "CH2O                              0\n",
      "SCC                               0\n",
      "FAF                               0\n",
      "TUE                               0\n",
      "CALC                              0\n",
      "MTRANS                            0\n",
      "NObeyesdad                        0\n",
      "BMI                               0\n",
      "NCP_scaled                        0\n",
      "dtype: int64\n",
      "Age 처리 완료: 하한 11.0, 상한 35.0\n",
      "Height 처리 완료: 하한 1.4223039999999996, 상한 1.9761600000000001\n",
      "Weight 처리 완료: 하한 3.25, 상한 169.25\n",
      "NCP 처리 완료: 하한 0.6666666666666667, 상한 0.6666666666666667\n",
      "BMI 처리 완료: 하한 6.789753367500005, 상한 53.552549307499994\n",
      "NCP_scaled 처리 완료: 하한 0.6666666666666667, 상한 0.6666666666666667\n"
     ]
    },
    {
     "data": {
      "image/png": "[encoded data removed]",
      "text/plain": [
       "<Figure size 640x480 with 1 Axes>"
      ]
     },
     "metadata": {},
     "output_type": "display_data"
    }
   ],
   "source": [
    "import pandas as pd\n",
    "import matplotlib.pyplot as plt\n",
    "import seaborn as sns\n",
    "\n",
    "print(df.info())\n",
    "print(df.describe())\n",
    "\n",
    "missing_values = df.isnull().sum()\n",
    "print(f\"결측치:\\n\", missing_values)\n",
    "\n",
    "numeric_columns = df.select_dtypes(include=['float64', 'int64']).columns\n",
    "\n",
    "for col in numeric_columns:\n",
    "    q1 = df[col].quantile(0.25)\n",
    "    q3 = df[col].quantile(0.75)\n",
    "    iqr = q3 - q1\n",
    "    lower_bound = q1 - 1.5 * iqr\n",
    "    upper_bound = q3 + 1.5 * iqr\n",
    "\n",
    "    df[col] = df[col].clip(lower_bound, upper_bound)\n",
    "\n",
    "    print(f\"{col} 처리 완료: 하한 {lower_bound}, 상한 {upper_bound}\")\n",
    "\n",
    "sns.boxplot(df['BMI'])\n",
    "plt.title(df['BMI'])\n",
    "plt.show()"
   ]
  },
  {
   "cell_type": "code",
   "execution_count": 117,
   "metadata": {},
   "outputs": [
    {
     "name": "stdout",
     "output_type": "stream",
     "text": [
      "Categorical columns Index(['id', 'Gender', 'family_history_with_overweight', 'FAVC', 'FCVC',\n",
      "       'CAEC', 'SMOKE', 'CH2O', 'SCC', 'FAF', 'TUE', 'CALC', 'MTRANS',\n",
      "       'NObeyesdad'],\n",
      "      dtype='object')\n",
      "id: 2111 unique values\n",
      "Gender: 2 unique values\n",
      "family_history_with_overweight: 2 unique values\n",
      "FAVC: 2 unique values\n",
      "FCVC: 3 unique values\n",
      "CAEC: 4 unique values\n",
      "SMOKE: 2 unique values\n",
      "CH2O: 3 unique values\n",
      "SCC: 2 unique values\n",
      "FAF: 4 unique values\n",
      "TUE: 3 unique values\n",
      "CALC: 4 unique values\n",
      "MTRANS: 5 unique values\n",
      "NObeyesdad: 7 unique values\n"
     ]
    }
   ],
   "source": [
    "categorical_columns = df.select_dtypes(include=['object']).columns\n",
    "print(\"Categorical columns\", categorical_columns)\n",
    "for col in categorical_columns:\n",
    "    print(f\"{col}: {df[col].nunique()} unique values\")"
   ]
  },
  {
   "cell_type": "code",
   "execution_count": 118,
   "metadata": {},
   "outputs": [
    {
     "name": "stdout",
     "output_type": "stream",
     "text": [
      "['0' '4 to 5' '2 to 4' '1 to 2']\n",
      "['3 to 5' '0 to 2' '>5']\n",
      "[0.  4.5 3.  1.5]\n",
      "[4.5 1.  6. ]\n"
     ]
    },
    {
     "name": "stderr",
     "output_type": "stream",
     "text": [
      "C:\\Users\\USER\\AppData\\Local\\Temp\\ipykernel_18360\\4293220191.py:4: FutureWarning: Downcasting behavior in `replace` is deprecated and will be removed in a future version. To retain the old behavior, explicitly call `result.infer_objects(copy=False)`. To opt-in to the future behavior, set `pd.set_option('future.no_silent_downcasting', True)`\n",
      "  df['FAF'] = df['FAF'].replace({'0':0, '4 to 5':4.5, '2 to 4':3, '1 to 2':1.5}).astype(float)\n",
      "C:\\Users\\USER\\AppData\\Local\\Temp\\ipykernel_18360\\4293220191.py:5: FutureWarning: Downcasting behavior in `replace` is deprecated and will be removed in a future version. To retain the old behavior, explicitly call `result.infer_objects(copy=False)`. To opt-in to the future behavior, set `pd.set_option('future.no_silent_downcasting', True)`\n",
      "  df['TUE'] = df['TUE'].replace({'3 to 5':4.5, '0 to 2':1, '>5':6}).astype(float)\n"
     ]
    }
   ],
   "source": [
    "print(df['FAF'].unique())\n",
    "print(df['TUE'].unique())\n",
    "\n",
    "df['FAF'] = df['FAF'].replace({'0':0, '4 to 5':4.5, '2 to 4':3, '1 to 2':1.5}).astype(float)\n",
    "df['TUE'] = df['TUE'].replace({'3 to 5':4.5, '0 to 2':1, '>5':6}).astype(float)\n",
    "\n",
    "print(df['FAF'].unique())\n",
    "print(df['TUE'].unique())"
   ]
  },
  {
   "cell_type": "code",
   "execution_count": 119,
   "metadata": {},
   "outputs": [
    {
     "name": "stdout",
     "output_type": "stream",
     "text": [
      "Index(['id', 'Gender', 'family_history_with_overweight', 'FAVC', 'FCVC',\n",
      "       'CAEC', 'SMOKE', 'CH2O', 'SCC', 'CALC', 'MTRANS', 'NObeyesdad'],\n",
      "      dtype='object')\n",
      "Index(['Age', 'Height', 'Weight', 'NCP', 'FAF', 'TUE', 'BMI', 'NCP_scaled'], dtype='object')\n"
     ]
    }
   ],
   "source": [
    "categorical_columns = df.select_dtypes(include=['object']).columns\n",
    "numeric_columns = df.select_dtypes(include=['int64', 'float64']).columns\n",
    "print(categorical_columns)\n",
    "print(numeric_columns)"
   ]
  },
  {
   "cell_type": "code",
   "execution_count": 120,
   "metadata": {},
   "outputs": [],
   "source": [
    "# 'Gender', 'family_history_with_overweight', 'FAVC', 'FCVC', 'CAEC', 'SMOKE', 'CH2O', 'SCC', 'CALC', 'MTRANS'\n",
    "# 'Age', 'Height', 'Weight', 'NCP', 'FAF', 'TUE', 'BMI'"
   ]
  },
  {
   "cell_type": "code",
   "execution_count": 121,
   "metadata": {},
   "outputs": [
    {
     "name": "stdout",
     "output_type": "stream",
     "text": [
      "   Gender  family_history_with_overweight  FAVC  FCVC  CAEC  SMOKE  CH2O  SCC  \\\n",
      "0       0                               1     0     2     3      0     0    0   \n",
      "1       0                               1     0     0     3      1     2    1   \n",
      "2       1                               1     0     2     3      0     0    0   \n",
      "3       1                               0     0     0     3      0     0    0   \n",
      "4       1                               0     0     2     3      0     0    0   \n",
      "\n",
      "   CALC  MTRANS  \n",
      "0     2       3  \n",
      "1     3       3  \n",
      "2     1       3  \n",
      "3     1       4  \n",
      "4     3       3  \n",
      "               Age       Height       Weight     NCP          FAF  \\\n",
      "count  2111.000000  2111.000000  2111.000000  2111.0  2111.000000   \n",
      "mean      0.471747     0.478325     0.365352     0.0     0.335544   \n",
      "std       0.251179     0.177321     0.201020     0.0     0.298487   \n",
      "min       0.000000     0.000000     0.000000     0.0     0.000000   \n",
      "25%       0.285714     0.342101     0.203455     0.0     0.000000   \n",
      "50%       0.428571     0.476089     0.337812     0.0     0.333333   \n",
      "75%       0.571429     0.605261     0.522073     0.0     0.666667   \n",
      "max       1.000000     1.000000     1.000000     0.0     1.000000   \n",
      "\n",
      "               TUE          BMI  \n",
      "count  2111.000000  2111.000000  \n",
      "mean      0.418996     0.441685  \n",
      "std       0.390496     0.211867  \n",
      "min       0.000000     0.000000  \n",
      "25%       0.000000     0.299556  \n",
      "50%       0.700000     0.415740  \n",
      "75%       0.700000     0.608726  \n",
      "max       1.000000     1.000000  \n"
     ]
    }
   ],
   "source": [
    "from sklearn.preprocessing import LabelEncoder, MinMaxScaler\n",
    "\n",
    "label_cols = ['Gender', 'family_history_with_overweight', 'FAVC', 'FCVC', 'CAEC', 'SMOKE', 'CH2O', 'SCC', 'CALC', 'MTRANS']\n",
    "label_encoders = {}\n",
    "\n",
    "for col in label_cols:\n",
    "    le = LabelEncoder()\n",
    "    df[col] = le.fit_transform(df[col])\n",
    "    label_encoders = le\n",
    "\n",
    "print(df[label_cols].head())\n",
    "\n",
    "scaler = MinMaxScaler()\n",
    "scale_cols = ['Age', 'Height', 'Weight', 'NCP', 'FAF', 'TUE', 'BMI']\n",
    "df[scale_cols] = scaler.fit_transform(df[scale_cols])\n",
    "\n",
    "print(df[scale_cols].describe())"
   ]
  },
  {
   "cell_type": "code",
   "execution_count": 122,
   "metadata": {},
   "outputs": [
    {
     "name": "stdout",
     "output_type": "stream",
     "text": [
      "        BMI  family_history_with_overweight       FAF       ARI\n",
      "0  0.301162                             1.0  0.000000  0.451742\n",
      "1  0.297240                             1.0  1.000000  0.222930\n",
      "2  0.284736                             1.0  0.666667  0.256263\n",
      "3  0.366359                             0.0  0.666667  0.219816\n",
      "4  0.405778                             0.0  0.000000  0.405778\n"
     ]
    }
   ],
   "source": [
    "# 파생변수 생성\n",
    "df['family_history_with_overweight'] = df['family_history_with_overweight'].astype(float)\n",
    "df['ARI'] = (df['BMI'] * (1 + 0.5 * df['family_history_with_overweight'])) / (1 + df['FAF'])\n",
    "\n",
    "# 결과 확인\n",
    "print(df[['BMI', 'family_history_with_overweight', 'FAF', 'ARI']].head())"
   ]
  },
  {
   "cell_type": "code",
   "execution_count": 123,
   "metadata": {},
   "outputs": [
    {
     "data": {
      "image/png": "[encoded data removed]",
      "text/plain": [
       "<Figure size 800x600 with 1 Axes>"
      ]
     },
     "metadata": {},
     "output_type": "display_data"
    }
   ],
   "source": [
    "# ARI 분포 시각화\n",
    "import matplotlib.pyplot as plt\n",
    "import seaborn as sns\n",
    "\n",
    "plt.figure(figsize=(8, 6))\n",
    "sns.histplot(df['ARI'], kde=True, bins=20)\n",
    "plt.title('Distribution fo ARI')\n",
    "plt.xlabel('ARI')\n",
    "plt.ylabel('Frequency')\n",
    "plt.show()"
   ]
  },
  {
   "cell_type": "code",
   "execution_count": 124,
   "metadata": {},
   "outputs": [],
   "source": [
    "##### ####"
   ]
  },
  {
   "cell_type": "code",
   "execution_count": 126,
   "metadata": {},
   "outputs": [
    {
     "name": "stdout",
     "output_type": "stream",
     "text": [
      "Logistic Regression:\n",
      "                     precision    recall  f1-score   support\n",
      "\n",
      "insufficient_weight       0.80      0.95      0.87        86\n",
      "      normal_weight       0.69      0.46      0.55        93\n",
      "     obesity_type_i       0.82      0.77      0.80       102\n",
      "    obesity_type_ii       0.86      0.97      0.91        88\n",
      "   obesity_type_iii       0.94      0.99      0.97        98\n",
      " overweight_level_i       0.64      0.60      0.62        88\n",
      "overweight_level_ii       0.62      0.70      0.65        79\n",
      "\n",
      "           accuracy                           0.78       634\n",
      "          macro avg       0.77      0.78      0.77       634\n",
      "       weighted avg       0.77      0.78      0.77       634\n",
      "\n",
      "Accuracy: 0.7791798107255521\n",
      "\n",
      "Support Vector Machine:\n",
      "                     precision    recall  f1-score   support\n",
      "\n",
      "insufficient_weight       0.83      0.99      0.90        86\n",
      "      normal_weight       0.89      0.60      0.72        93\n",
      "     obesity_type_i       0.98      0.95      0.97       102\n",
      "    obesity_type_ii       0.95      0.98      0.96        88\n",
      "   obesity_type_iii       1.00      0.99      0.99        98\n",
      " overweight_level_i       0.76      0.78      0.77        88\n",
      "overweight_level_ii       0.78      0.90      0.84        79\n",
      "\n",
      "           accuracy                           0.88       634\n",
      "          macro avg       0.88      0.88      0.88       634\n",
      "       weighted avg       0.89      0.88      0.88       634\n",
      "\n",
      "Accuracy: 0.8848580441640379\n",
      "\n",
      "K-Nearest Neighbors:\n",
      "                     precision    recall  f1-score   support\n",
      "\n",
      "insufficient_weight       0.70      0.80      0.75        86\n",
      "      normal_weight       0.58      0.45      0.51        93\n",
      "     obesity_type_i       0.65      0.70      0.67       102\n",
      "    obesity_type_ii       0.81      0.94      0.87        88\n",
      "   obesity_type_iii       0.93      0.99      0.96        98\n",
      " overweight_level_i       0.65      0.56      0.60        88\n",
      "overweight_level_ii       0.64      0.59      0.62        79\n",
      "\n",
      "           accuracy                           0.72       634\n",
      "          macro avg       0.71      0.72      0.71       634\n",
      "       weighted avg       0.71      0.72      0.71       634\n",
      "\n",
      "Accuracy: 0.722397476340694\n"
     ]
    }
   ],
   "source": [
    "from sklearn.model_selection import train_test_split\n",
    "from sklearn.linear_model import LogisticRegression\n",
    "from sklearn.svm import SVC\n",
    "from sklearn.neighbors import KNeighborsClassifier\n",
    "from sklearn.metrics import classification_report, accuracy_score\n",
    "import pandas as pd\n",
    "\n",
    "X = df.drop(['NObeyesdad', 'id'], axis=1) # 종속변수\n",
    "y = df['NObeyesdad'] # 종속변수\n",
    "\n",
    "X_train, X_test, y_train, y_test = train_test_split(X, y, test_size=0.3, random_state=42)\n",
    "\n",
    "log_reg = LogisticRegression(max_iter=1000, random_state=42)\n",
    "log_reg.fit(X_train, y_train)\n",
    "y_pred_log = log_reg.predict(X_test)\n",
    "\n",
    "svm_model = SVC(kernel='linear', random_state=42)\n",
    "svm_model.fit(X_train, y_train)\n",
    "y_pred_svm = svm_model.predict(X_test)\n",
    "\n",
    "knn_model = KNeighborsClassifier(n_neighbors=5)\n",
    "knn_model.fit(X_train, y_train)\n",
    "y_pred_knn = knn_model.predict(X_test)\n",
    "\n",
    "print(\"Logistic Regression:\")\n",
    "print(classification_report(y_test, y_pred_log))\n",
    "print(\"Accuracy:\", accuracy_score(y_test, y_pred_log))\n",
    "\n",
    "print(\"\\nSupport Vector Machine:\")\n",
    "print(classification_report(y_test, y_pred_svm))\n",
    "print(\"Accuracy:\", accuracy_score(y_test, y_pred_svm))\n",
    "\n",
    "print(\"\\nK-Nearest Neighbors:\")\n",
    "print(classification_report(y_test, y_pred_knn))\n",
    "print(\"Accuracy:\", accuracy_score(y_test, y_pred_knn))"
   ]
  },
  {
   "cell_type": "code",
   "execution_count": null,
   "metadata": {},
   "outputs": [],
   "source": [
    "##### ####"
   ]
  },
  {
   "cell_type": "code",
   "execution_count": null,
   "metadata": {},
   "outputs": [],
   "source": [
    "import pandas as pd\n",
    "import numpy as np\n",
    "from sklearn.metrics import recall_score\n",
    "import matplotlib.pyplot as plt\n",
    "\n",
    "# 기본 성능 계산\n",
    "base_model = voting_clf  # Soft Voting 모델 사용\n",
    "base_model.fit(X_train, y_train)\n",
    "base_pred = base_model.predict(X_test)\n",
    "base_recall = recall_score(y_test, base_pred, average='macro')\n",
    "print(f\"Base Recall: {base_recall:.4f}\")\n",
    "\n",
    "# Drop Column Importance 계산\n",
    "importance_results = {}\n",
    "\n",
    "for col in X_train.columns:\n",
    "    # 특정 변수를 제거한 데이터 생성\n",
    "    X_train_drop = X_train.drop(columns=[col])\n",
    "    X_test_drop = X_test.drop(columns=[col])\n",
    "\n",
    "    # 모델 학습 및 평가\n",
    "    base_model.fit(X_train_drop, y_train)\n",
    "    drop_pred = base_model.predict(X_test_drop)\n",
    "    drop_recall = recall_score(y_test, drop_pred, average='macro')\n",
    "\n",
    "    # 중요도 저장\n",
    "    importance_results[col] = base_recall - drop_recall  # 올바르게 Recall 차이 계산\n",
    "\n",
    "# 결과 정렬 및 데이터프레임 생성\n",
    "importance_df = pd.DataFrame(list(importance_results.items()), columns=['Feature', 'Importance'])\n",
    "importance_df = importance_df.sort_values(by='Importance', ascending=False)\n",
    "\n",
    "# 중요도 시각화\n",
    "plt.figure(figsize=(10, 6))\n",
    "plt.barh(importance_df['Feature'], importance_df['Importance'], color='skyblue')\n",
    "plt.xlabel('Change in Recall')\n",
    "plt.ylabel('Feature')\n",
    "plt.title('Feature Importance (Drop Column Importance)')\n",
    "plt.gca().invert_yaxis()\n",
    "plt.show()"
   ]
  },
  {
   "cell_type": "code",
   "execution_count": null,
   "metadata": {},
   "outputs": [],
   "source": [
    "##### #####"
   ]
  }
 ],
 "metadata": {
  "kernelspec": {
   "display_name": "ds_env",
   "language": "python",
   "name": "python3"
  },
  "language_info": {
   "codemirror_mode": {
    "name": "ipython",
    "version": 3
   },
   "file_extension": ".py",
   "mimetype": "text/x-python",
   "name": "python",
   "nbconvert_exporter": "python",
   "pygments_lexer": "ipython3",
   "version": "3.12.8"
  }
 },
 "nbformat": 4,
 "nbformat_minor": 2
}
