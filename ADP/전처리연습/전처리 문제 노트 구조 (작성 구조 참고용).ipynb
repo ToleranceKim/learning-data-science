{
 "cells": [
  {
   "cell_type": "markdown",
   "metadata": {},
   "source": [
    "# 문제 1: 판매 데이터 분석 및 고급 데이터 처리\n",
    "\n",
    "### 데이터 설명:\n",
    "매장에서 판매되는 상품의 판매 데이터를 포함하고 있습니다. 데이터는 상품 카테고리, 날짜, 매출, 판매 수량 등을 포함하며, 이를 통해 각 카테고리별 매출 비율 및 주중/주말별 판매 패턴을 분석해야 합니다.\n",
    "\n",
    "### 요구사항:\n",
    "1. 상품 카테고리별로 총 매출과 평균 매출을 계산하세요.\n",
    "2. 날짜를 기준으로 주중/주말을 구분하고, 주중과 주말의 평균 매출 차이를 계산하세요.\n",
    "3. 매출 데이터를 이용해 매출 비율(전체 매출에서 해당 상품의 비율)을 계산하여 새로운 컬럼에 추가하세요.\n",
    "4. pivot_table을 사용하여 각 상품 카테고리와 주중/주말별 매출 합계를 구하세요.\n",
    "5. 최종 분석 결과를 시각화하여 간단한 인사이트를 도출하세요."
   ]
  },
  {
   "cell_type": "code",
   "execution_count": 1,
   "metadata": {},
   "outputs": [
    {
     "data": {
      "text/html": [
       "<div>\n",
       "<style scoped>\n",
       "    .dataframe tbody tr th:only-of-type {\n",
       "        vertical-align: middle;\n",
       "    }\n",
       "\n",
       "    .dataframe tbody tr th {\n",
       "        vertical-align: top;\n",
       "    }\n",
       "\n",
       "    .dataframe thead th {\n",
       "        text-align: right;\n",
       "    }\n",
       "</style>\n",
       "<table border=\"1\" class=\"dataframe\">\n",
       "  <thead>\n",
       "    <tr style=\"text-align: right;\">\n",
       "      <th></th>\n",
       "      <th>Product_Category</th>\n",
       "      <th>Date</th>\n",
       "      <th>Sales</th>\n",
       "      <th>Quantity_Sold</th>\n",
       "    </tr>\n",
       "  </thead>\n",
       "  <tbody>\n",
       "    <tr>\n",
       "      <th>0</th>\n",
       "      <td>C</td>\n",
       "      <td>2023-01-01</td>\n",
       "      <td>1190</td>\n",
       "      <td>6</td>\n",
       "    </tr>\n",
       "    <tr>\n",
       "      <th>1</th>\n",
       "      <td>D</td>\n",
       "      <td>2023-01-02</td>\n",
       "      <td>3300</td>\n",
       "      <td>82</td>\n",
       "    </tr>\n",
       "    <tr>\n",
       "      <th>2</th>\n",
       "      <td>A</td>\n",
       "      <td>2023-01-03</td>\n",
       "      <td>1980</td>\n",
       "      <td>69</td>\n",
       "    </tr>\n",
       "    <tr>\n",
       "      <th>3</th>\n",
       "      <td>C</td>\n",
       "      <td>2023-01-04</td>\n",
       "      <td>3975</td>\n",
       "      <td>47</td>\n",
       "    </tr>\n",
       "    <tr>\n",
       "      <th>4</th>\n",
       "      <td>C</td>\n",
       "      <td>2023-01-05</td>\n",
       "      <td>3006</td>\n",
       "      <td>25</td>\n",
       "    </tr>\n",
       "  </tbody>\n",
       "</table>\n",
       "</div>"
      ],
      "text/plain": [
       "  Product_Category       Date  Sales  Quantity_Sold\n",
       "0                C 2023-01-01   1190              6\n",
       "1                D 2023-01-02   3300             82\n",
       "2                A 2023-01-03   1980             69\n",
       "3                C 2023-01-04   3975             47\n",
       "4                C 2023-01-05   3006             25"
      ]
     },
     "execution_count": 1,
     "metadata": {},
     "output_type": "execute_result"
    }
   ],
   "source": [
    "# 데이터 생성 코드\n",
    "\"\"\"\n",
    "데이터 생성 코드드\n",
    "\"\"\""
   ]
  },
  {
   "cell_type": "markdown",
   "metadata": {},
   "source": [
    "### 풀이:"
   ]
  },
  {
   "cell_type": "code",
   "execution_count": 20,
   "metadata": {},
   "outputs": [
    {
     "data": {
      "text/html": [
       "<div>\n",
       "<style scoped>\n",
       "    .dataframe tbody tr th:only-of-type {\n",
       "        vertical-align: middle;\n",
       "    }\n",
       "\n",
       "    .dataframe tbody tr th {\n",
       "        vertical-align: top;\n",
       "    }\n",
       "\n",
       "    .dataframe thead th {\n",
       "        text-align: right;\n",
       "    }\n",
       "</style>\n",
       "<table border=\"1\" class=\"dataframe\">\n",
       "  <thead>\n",
       "    <tr style=\"text-align: right;\">\n",
       "      <th></th>\n",
       "      <th>Product_Category</th>\n",
       "      <th>mean</th>\n",
       "      <th>sum</th>\n",
       "    </tr>\n",
       "  </thead>\n",
       "  <tbody>\n",
       "    <tr>\n",
       "      <th>0</th>\n",
       "      <td>A</td>\n",
       "      <td>2981.909836</td>\n",
       "      <td>363793</td>\n",
       "    </tr>\n",
       "    <tr>\n",
       "      <th>1</th>\n",
       "      <td>B</td>\n",
       "      <td>2993.064815</td>\n",
       "      <td>323251</td>\n",
       "    </tr>\n",
       "    <tr>\n",
       "      <th>2</th>\n",
       "      <td>C</td>\n",
       "      <td>3119.762295</td>\n",
       "      <td>380611</td>\n",
       "    </tr>\n",
       "    <tr>\n",
       "      <th>3</th>\n",
       "      <td>D</td>\n",
       "      <td>3016.729730</td>\n",
       "      <td>446476</td>\n",
       "    </tr>\n",
       "  </tbody>\n",
       "</table>\n",
       "</div>"
      ],
      "text/plain": [
       "  Product_Category         mean     sum\n",
       "0                A  2981.909836  363793\n",
       "1                B  2993.064815  323251\n",
       "2                C  3119.762295  380611\n",
       "3                D  3016.729730  446476"
      ]
     },
     "execution_count": 20,
     "metadata": {},
     "output_type": "execute_result"
    }
   ],
   "source": [
    "# 1. 상품 카테고리별로 총 매출과 평균 매출을 계산하세요.\n",
    "\"\"\"\n",
    "풀이 코드드\n",
    "\"\"\""
   ]
  },
  {
   "cell_type": "code",
   "execution_count": null,
   "metadata": {},
   "outputs": [],
   "source": [
    "# 2. 날짜를 기준으로 주중/주말을 구분하고, 주중과 주말의 평균 매출 차이를 계산하세요.\n",
    "\"\"\"\n",
    "풀이 코드\n",
    "\"\"\""
   ]
  },
  {
   "cell_type": "code",
   "execution_count": null,
   "metadata": {},
   "outputs": [],
   "source": [
    "# 3. 매출 데이터를 이용해 매출 비율(전체 매출에서 해당 상품의 비율)을 계산하여 새로운 컬럼에 추가하세요.\n",
    "\"\"\"\n",
    "풀이 코드\n",
    "\"\"\""
   ]
  },
  {
   "cell_type": "code",
   "execution_count": null,
   "metadata": {},
   "outputs": [],
   "source": [
    "# 4. pivot_table을 사용하여 각 상품 카테고리와 주중/주말별 매출 합계를 구하세요.\n",
    "\"\"\"\n",
    "풀이 코드\n",
    "\"\"\""
   ]
  },
  {
   "cell_type": "code",
   "execution_count": null,
   "metadata": {},
   "outputs": [],
   "source": [
    "# 5. 최종 분석 결과를 시각화하여 간단한 인사이트를 도출하세요.\n",
    "\"\"\"\n",
    "풀이 코드\n",
    "\"\"\""
   ]
  }
 ],
 "metadata": {
  "kernelspec": {
   "display_name": "ds_env",
   "language": "python",
   "name": "python3"
  },
  "language_info": {
   "codemirror_mode": {
    "name": "ipython",
    "version": 3
   },
   "file_extension": ".py",
   "mimetype": "text/x-python",
   "name": "python",
   "nbconvert_exporter": "python",
   "pygments_lexer": "ipython3",
   "version": "3.12.8"
  }
 },
 "nbformat": 4,
 "nbformat_minor": 5
}
