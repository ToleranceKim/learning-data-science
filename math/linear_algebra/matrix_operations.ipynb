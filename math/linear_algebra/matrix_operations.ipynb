{
 "cells": [
  {
   "cell_type": "code",
   "execution_count": 1,
   "metadata": {},
   "outputs": [],
   "source": [
    "def add(A, B):\n",
    "    \"\"\"\n",
    "    행렬의 덧셈\n",
    "    입력값 : 행렬의 덧셈을 수행할 행렬 A, B\n",
    "    출력값 : 행렬 A와 행렬 B의 덧셈 결과인 행렬 C\n",
    "    \"\"\"\n",
    "    \n",
    "    n = len(A)\n",
    "    p = len(A[0])\n",
    "    \n",
    "    res = []\n",
    "    for i in range(0, n):\n",
    "        row = []\n",
    "        for j in range(0, p):\n",
    "            val = A[i][j] + B[i][j]\n",
    "            row.append(val)\n",
    "        res.append(row)\n",
    "    return res"
   ]
  },
  {
   "cell_type": "code",
   "execution_count": 2,
   "metadata": {},
   "outputs": [
    {
     "data": {
      "text/plain": [
       "[[3, 11], [7, 3], [8, 6]]"
      ]
     },
     "execution_count": 2,
     "metadata": {},
     "output_type": "execute_result"
    }
   ],
   "source": [
    "A = [[2, 7], [3, 4], [6, 1]]\n",
    "B = [[1, 4], [4, -1], [2, 5]]\n",
    "add(A, B)"
   ]
  },
  {
   "cell_type": "code",
   "execution_count": 11,
   "metadata": {},
   "outputs": [],
   "source": [
    "def subtract(A, b):\n",
    "    n = len(A)\n",
    "    p = len(A[0])\n",
    "    \n",
    "    res = []\n",
    "    for i in range(0, n):\n",
    "        row = []\n",
    "        for j in range(0, p):\n",
    "            val = A[i][j] - B[i][j]\n",
    "            row.append(val)\n",
    "        res.append(row)\n",
    "    return res"
   ]
  },
  {
   "cell_type": "code",
   "execution_count": 12,
   "metadata": {},
   "outputs": [
    {
     "data": {
      "text/plain": [
       "[[1, 3], [-1, 5], [4, -4]]"
      ]
     },
     "execution_count": 12,
     "metadata": {},
     "output_type": "execute_result"
    }
   ],
   "source": [
    "A = [[2, 7], [3, 4], [6, 1]]\n",
    "B = [[1, 4], [4, -1], [2, 5]]\n",
    "subtract(A, B)"
   ]
  },
  {
   "cell_type": "code",
   "execution_count": 17,
   "metadata": {},
   "outputs": [],
   "source": [
    "def scalar_mul(b, A):\n",
    "    \"\"\"\n",
    "    행렬의 스칼라 곱\n",
    "    입력값 : 스칼라 곱을 수행할 스칼라 b, 행렬 A\n",
    "    출력값 : 스칼라 b와 행렬 A의 스칼라 곱 결과인 행렬 C\n",
    "    \"\"\"\n",
    "    \n",
    "    n = len(A)\n",
    "    p = len(A[0])\n",
    "    \n",
    "    res = []\n",
    "    for i in range(0, n):\n",
    "        row = []\n",
    "        for j in range(0, p):\n",
    "            val = b * A[i][j]\n",
    "            row.append(val)\n",
    "        res.append(row)\n",
    "    return res"
   ]
  },
  {
   "cell_type": "code",
   "execution_count": 18,
   "metadata": {},
   "outputs": [
    {
     "data": {
      "text/plain": [
       "[[4, 14], [6, 8], [12, 2]]"
      ]
     },
     "execution_count": 18,
     "metadata": {},
     "output_type": "execute_result"
    }
   ],
   "source": [
    "A = [[2, 7], [3, 4], [6, 1]]\n",
    "b = 2\n",
    "scalar_mul(b, A)"
   ]
  },
  {
   "cell_type": "code",
   "execution_count": 22,
   "metadata": {},
   "outputs": [],
   "source": [
    "def ele_product(A, B):\n",
    "    \"\"\"\n",
    "    행렬의 원소 곱\n",
    "    입력값 : 행렬의 원소 곱을 수행할 행렬 A, B\n",
    "    출력값 : 행렬 A와 행렬 B의 원소 곱 결과인 행렬 C\n",
    "    \"\"\"\n",
    "    \n",
    "    n = len(A)\n",
    "    p = len(A[0])\n",
    "    \n",
    "    res = []\n",
    "    for i in range(0, n):\n",
    "        row = []\n",
    "        for j in range(0, p):\n",
    "            val = A[i][j] * B[i][j]\n",
    "            row.append(val)\n",
    "        res.append(row)\n",
    "    return res\n"
   ]
  },
  {
   "cell_type": "code",
   "execution_count": 23,
   "metadata": {},
   "outputs": [
    {
     "data": {
      "text/plain": [
       "[[5, -5], [6, 8], [8, 7]]"
      ]
     },
     "execution_count": 23,
     "metadata": {},
     "output_type": "execute_result"
    }
   ],
   "source": [
    "A = [[1, 5], [6, 4], [2, 7]]\n",
    "B = [[5, -1], [1, 2], [4, 1]]\n",
    "ele_product(A, B)\n"
   ]
  },
  {
   "cell_type": "code",
   "execution_count": 27,
   "metadata": {},
   "outputs": [],
   "source": [
    "def matmul(A, B):\n",
    "    \"\"\"\n",
    "    행렬의 행렬 곱\n",
    "    입력값 : 행렬 곱을 수행할 행렬 A, B\n",
    "    출력값 : 행렬 A와 행렬 B의 행렬 곱 결과인 행렬 res\n",
    "    \"\"\"\n",
    "    \n",
    "    n = len(A)\n",
    "    p1 = len(A[0])\n",
    "    p2 = len(B[0])\n",
    "    \n",
    "    res = []\n",
    "    for i in range (0, n):\n",
    "        row = []\n",
    "        for j in range(0, p2):\n",
    "            val = 0\n",
    "            for k in range(0, p1):\n",
    "                val += A[i][k] * B[k][j]\n",
    "            row.append(val)\n",
    "        res.append(row)\n",
    "    return res"
   ]
  },
  {
   "cell_type": "code",
   "execution_count": 28,
   "metadata": {},
   "outputs": [
    {
     "data": {
      "text/plain": [
       "[[-1, 8, 3], [5, -1, 11], [13, -11, 23]]"
      ]
     },
     "execution_count": 28,
     "metadata": {},
     "output_type": "execute_result"
    }
   ],
   "source": [
    "A = [[2, 7], [3, 4], [5, 2]]\n",
    "B = [[3, -3, 5], [-1, 2, -1]]\n",
    "matmul(A, B)"
   ]
  }
 ],
 "metadata": {
  "kernelspec": {
   "display_name": "BOK_team_1",
   "language": "python",
   "name": "python3"
  },
  "language_info": {
   "codemirror_mode": {
    "name": "ipython",
    "version": 3
   },
   "file_extension": ".py",
   "mimetype": "text/x-python",
   "name": "python",
   "nbconvert_exporter": "python",
   "pygments_lexer": "ipython3",
   "version": "3.8.19"
  },
  "orig_nbformat": 4
 },
 "nbformat": 4,
 "nbformat_minor": 2
}
