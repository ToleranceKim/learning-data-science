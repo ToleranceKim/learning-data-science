{
 "cells": [
  {
   "attachments": {},
   "cell_type": "markdown",
   "metadata": {},
   "source": [
    "# 전치 행렬(transposed matrix)"
   ]
  },
  {
   "attachments": {},
   "cell_type": "markdown",
   "metadata": {},
   "source": [
    "- 기존 행렬의 행과 열을 바꾼 행렬\n",
    "- 기존 행렬을 전치 행렬로 변환하면 행렬의 크기도 바뀌게 된다.</br>\n",
    "$ u_{ij} \\rightarrow u_{ji} $"
   ]
  },
  {
   "attachments": {},
   "cell_type": "markdown",
   "metadata": {},
   "source": [
    "## 전치 행렬의 성질\n",
    "1. $(A^T)^T = A$\n",
    "\n",
    "2. $(aA)^T = aA^T$ (여기서 $a$는 스칼라)\n",
    "\n",
    "3. $(A + B)^T = A^T + B^T$\n",
    "\n",
    "4. $(AB)^T = B^T A^T$\n",
    "\n",
    "5. 만약 $A$가 가역행렬이면, $(A^{-1})^T = (A^T)^{-1}$\n",
    "\n",
    "\n"
   ]
  },
  {
   "cell_type": "code",
   "execution_count": 13,
   "metadata": {},
   "outputs": [],
   "source": [
    "def transpose(A):\n",
    "    \"\"\"\n",
    "    행렬의 전치 행렬\n",
    "    입력값 : 전치 행렬을 구하고자 하는 행렬 A\n",
    "    출력값 : 행렬 A의 전치 행렬 At\n",
    "    \"\"\"\n",
    "    n = len(A)\n",
    "    p = len(A[0])\n",
    "    \n",
    "    At = []\n",
    "    for i in range(0, p):\n",
    "        row = []\n",
    "        for j in range(0, n):\n",
    "            val = A[j][i]\n",
    "            row.append(val)\n",
    "        At.append(row)\n",
    "    return At"
   ]
  },
  {
   "cell_type": "code",
   "execution_count": 3,
   "metadata": {},
   "outputs": [
    {
     "data": {
      "text/plain": [
       "[[1, 3, 6], [5, 4, 2]]"
      ]
     },
     "execution_count": 3,
     "metadata": {},
     "output_type": "execute_result"
    }
   ],
   "source": [
    "A = [[1, 5], [3, 4], [6, 2]]\n",
    "transpose(A)"
   ]
  },
  {
   "attachments": {},
   "cell_type": "markdown",
   "metadata": {},
   "source": [
    "# 대칭 행렬(symmetric matrix)"
   ]
  },
  {
   "attachments": {},
   "cell_type": "markdown",
   "metadata": {},
   "source": [
    "- 기존 행렬과 전치 행렬이 동일한 정사각 행렬\n",
    "- 행 번호와 열 번호를 바꾸어도 갑이 동일한 행렬이다."
   ]
  },
  {
   "attachments": {},
   "cell_type": "markdown",
   "metadata": {},
   "source": [
    "## 대칭 행렬의 성질\n",
    "- 대칭 행렬 간 덧셈과 뺄셈 결과 또한 대칭행렬\n",
    "- 대칭 행렬 간 곱셈은 항상 대칭행렬이 아님\n",
    "- 대칭 행렬의 거듭제곱은 대칭 행렬\n",
    "- 어떤 행렬과 그 행렬의 전치 행렬은 대칭 행렬 "
   ]
  },
  {
   "cell_type": "code",
   "execution_count": 17,
   "metadata": {},
   "outputs": [],
   "source": [
    "# 대칭행렬의 특징\n",
    "def transpose(A):\n",
    "    \"\"\"\n",
    "    행렬의 전치 행렬\n",
    "    입력값 : 전치 행렬을 구하고자 하는 행렬 A\n",
    "    출력값 : 행렬 A의 전치 행렬 At\n",
    "    \"\"\"\n",
    "    n = len(A)\n",
    "    p = len(A[0])\n",
    "    \n",
    "    At = []\n",
    "    for i in range(0, p):\n",
    "        row = []\n",
    "        for j in range(0, n):\n",
    "            val = A[j][i]\n",
    "            row.append(val)\n",
    "        At.append(row)\n",
    "    return At"
   ]
  },
  {
   "cell_type": "code",
   "execution_count": 16,
   "metadata": {},
   "outputs": [],
   "source": [
    "def matmul(A, B):\n",
    "    \"\"\"\n",
    "    행렬의 행렬 곱\n",
    "    입력값 : 행렬 곱을 수행할 행렬 A, B\n",
    "    출력값 : 행렬 A와 행렬 B의 행렬 곱 결과인 행렬 res\n",
    "    \"\"\"\n",
    "    \n",
    "    n = len(A)\n",
    "    p1 = len(A[0])\n",
    "    p2 = len(B[0])\n",
    "    \n",
    "    res = []\n",
    "    for i in range (0, n):\n",
    "        row = []\n",
    "        for j in range(0, p2):\n",
    "            val = 0\n",
    "            for k in range(0, p1):\n",
    "                val += A[i][k] * B[k][j]\n",
    "            row.append(val)\n",
    "        res.append(row)\n",
    "    return res"
   ]
  },
  {
   "attachments": {},
   "cell_type": "markdown",
   "metadata": {},
   "source": [
    "대칭 행렬 $A$의 전치 행렬 $A^T$가 기존 행렬 $A$와 동일한지 확인"
   ]
  },
  {
   "cell_type": "code",
   "execution_count": 11,
   "metadata": {},
   "outputs": [
    {
     "data": {
      "text/plain": [
       "[[1, 0, 2], [0, 2, 1], [2, 1, 1]]"
      ]
     },
     "execution_count": 11,
     "metadata": {},
     "output_type": "execute_result"
    }
   ],
   "source": [
    "A = [[1, 0, 2], [0, 2, 1], [2, 1, 1]]\n",
    "A"
   ]
  },
  {
   "cell_type": "code",
   "execution_count": 12,
   "metadata": {},
   "outputs": [
    {
     "name": "stdout",
     "output_type": "stream",
     "text": [
      "[[1, 0, 2], [0, 2, 1], [2, 1, 1]]\n"
     ]
    }
   ],
   "source": [
    "At = transpose(A)\n",
    "print(At)"
   ]
  },
  {
   "cell_type": "code",
   "execution_count": 13,
   "metadata": {},
   "outputs": [
    {
     "data": {
      "text/plain": [
       "True"
      ]
     },
     "execution_count": 13,
     "metadata": {},
     "output_type": "execute_result"
    }
   ],
   "source": [
    "A == At"
   ]
  },
  {
   "attachments": {},
   "cell_type": "markdown",
   "metadata": {},
   "source": [
    "행렬 $A$가 대칭행렬일 때 행렬의 거듭 제곱 또한 대칭 행렬인지를 확인"
   ]
  },
  {
   "cell_type": "code",
   "execution_count": 14,
   "metadata": {},
   "outputs": [
    {
     "name": "stdout",
     "output_type": "stream",
     "text": [
      "행렬 A의 2 제곱은 [[5, 2, 4], [2, 5, 3], [4, 3, 6]]\n",
      "행렬 A의 3 제곱은 [[13, 8, 16], [8, 13, 12], [16, 12, 17]]\n",
      "행렬 A의 4 제곱은 [[45, 32, 50], [32, 38, 41], [50, 41, 61]]\n",
      "행렬 A의 5 제곱은 [[145, 114, 172], [114, 117, 143], [172, 143, 202]]\n",
      "행렬 A의 6 제곱은 [[489, 400, 576], [400, 377, 488], [576, 488, 689]]\n",
      "행렬 A의 7 제곱은 [[1641, 1376, 1954], [1376, 1242, 1665], [1954, 1665, 2329]]\n",
      "행렬 A의 8 제곱은 [[5549, 4706, 6612], [4706, 4149, 5659], [6612, 5659, 7902]]\n",
      "행렬 A의 9 제곱은 [[18773, 16024, 22416], [16024, 13957, 19220], [22416, 19220, 26785]]\n",
      "행렬 A의 10 제곱은 [[63605, 54464, 75986], [54464, 47134, 65225], [75986, 65225, 90837]]\n"
     ]
    }
   ],
   "source": [
    "AA = A\n",
    "for i in range(0, 9):\n",
    "    AA = matmul(AA, A)\n",
    "    print(\"행렬 A의\", i+2, \"제곱은\", AA)"
   ]
  },
  {
   "attachments": {},
   "cell_type": "markdown",
   "metadata": {},
   "source": [
    "행렬 $A$와 행렬 $A$의 전치 행렬 $A^T$의 곱이 대칭 행렬이라는 점을 확인"
   ]
  },
  {
   "cell_type": "code",
   "execution_count": 14,
   "metadata": {},
   "outputs": [
    {
     "name": "stdout",
     "output_type": "stream",
     "text": [
      "[[1, 0, 3], [2, 1, 4], [0, 1, 1]]\n"
     ]
    }
   ],
   "source": [
    "A = [[1, 0, 3], [2, 1, 4], [0, 1, 1]]\n",
    "At = transpose(A)\n",
    "print(A)"
   ]
  },
  {
   "cell_type": "code",
   "execution_count": 15,
   "metadata": {},
   "outputs": [
    {
     "name": "stdout",
     "output_type": "stream",
     "text": [
      "[[1, 2, 0], [0, 1, 1], [3, 4, 1]]\n"
     ]
    }
   ],
   "source": [
    "print(At)"
   ]
  },
  {
   "cell_type": "code",
   "execution_count": 18,
   "metadata": {},
   "outputs": [
    {
     "data": {
      "text/plain": [
       "[[10, 14, 3], [14, 21, 5], [3, 5, 2]]"
      ]
     },
     "execution_count": 18,
     "metadata": {},
     "output_type": "execute_result"
    }
   ],
   "source": [
    "matmul(A, At)"
   ]
  },
  {
   "cell_type": "code",
   "execution_count": 19,
   "metadata": {},
   "outputs": [
    {
     "data": {
      "text/plain": [
       "[[5, 2, 11], [2, 2, 5], [11, 5, 26]]"
      ]
     },
     "execution_count": 19,
     "metadata": {},
     "output_type": "execute_result"
    }
   ],
   "source": [
    "# 곱하는 순서를 바꾸어도 대칭 행렬\n",
    "matmul(At, A)"
   ]
  },
  {
   "attachments": {},
   "cell_type": "markdown",
   "metadata": {},
   "source": [
    "# 대각 행렬(diagonal matrix)"
   ]
  },
  {
   "attachments": {},
   "cell_type": "markdown",
   "metadata": {},
   "source": [
    "- 주 대각 원소가 아닌 원소가 0인 정사각 행렬\n",
    "- 주로 $D$로 표기\n",
    "- 정사각 행렬을 $PDP^{-1}$로 바꾸어 주어 구함\n",
    "- $P$는 역행렬을 갖는 행렬"
   ]
  },
  {
   "cell_type": "code",
   "execution_count": 1,
   "metadata": {},
   "outputs": [],
   "source": [
    "def diag(A):\n",
    "    \"\"\"\n",
    "    행렬의 대각 행렬\n",
    "    입력값 : 대각 행렬을 구하고자 하는 행렬 A\n",
    "    출력값 : 행렬 A의 대각 행렬 D\n",
    "    \"\"\"\n",
    "    n = len(A)\n",
    "    D = []\n",
    "    for i in range(0, n):\n",
    "        row = []\n",
    "        for j in range(0, n):\n",
    "            if i == j:\n",
    "                row.append(A[i][j])\n",
    "            else:\n",
    "                row.append(0)\n",
    "        D.append(row)\n",
    "    return D"
   ]
  },
  {
   "cell_type": "code",
   "execution_count": 3,
   "metadata": {},
   "outputs": [],
   "source": [
    "A = [[1, 2, 3], [4, 5, 6], [7, 8, 9]]"
   ]
  },
  {
   "cell_type": "code",
   "execution_count": 4,
   "metadata": {},
   "outputs": [
    {
     "data": {
      "text/plain": [
       "[[1, 0, 0], [0, 5, 0], [0, 0, 9]]"
      ]
     },
     "execution_count": 4,
     "metadata": {},
     "output_type": "execute_result"
    }
   ],
   "source": [
    "diag(A)"
   ]
  },
  {
   "cell_type": "code",
   "execution_count": 6,
   "metadata": {},
   "outputs": [],
   "source": [
    "def diag_ele(A):\n",
    "    \"\"\"\n",
    "    대각 원소 구하기\n",
    "    입력값 : 대각 원소를 구하고자 하는 행렬 A\n",
    "    출력값 : 행렬 A의 대각 원소 리스트 d\n",
    "    \"\"\"\n",
    "    n = len(A)\n",
    "    d = []\n",
    "    for i in range(0, n):\n",
    "        d.append(A[i][i])\n",
    "    return d"
   ]
  },
  {
   "cell_type": "code",
   "execution_count": 7,
   "metadata": {},
   "outputs": [
    {
     "data": {
      "text/plain": [
       "[1, 5, 9]"
      ]
     },
     "execution_count": 7,
     "metadata": {},
     "output_type": "execute_result"
    }
   ],
   "source": [
    "diag_ele(A)"
   ]
  },
  {
   "cell_type": "code",
   "execution_count": 8,
   "metadata": {},
   "outputs": [],
   "source": [
    "def ele2diag(a):\n",
    "    \"\"\"\n",
    "    대각 원소 -> 대각 행렬 변환\n",
    "    입력값 : 대각 원소 리스트 a\n",
    "    출력값 : 대각 원소 a를 이용해 생성한 nxn 대각 행렬 D\n",
    "    n : 대각 원소 리스트 a의 길이\n",
    "    \"\"\"\n",
    "    n = len(a)\n",
    "    D = []\n",
    "    for i in range(0, n):\n",
    "        row = []\n",
    "        for j in range(0, n):\n",
    "            if i == j:\n",
    "                row.append(a[i])\n",
    "            else:\n",
    "                row.append(0)\n",
    "        D.append(row)\n",
    "    return D"
   ]
  },
  {
   "cell_type": "code",
   "execution_count": 10,
   "metadata": {},
   "outputs": [],
   "source": [
    "a = [1, 9, 5]"
   ]
  },
  {
   "cell_type": "code",
   "execution_count": 11,
   "metadata": {},
   "outputs": [
    {
     "data": {
      "text/plain": [
       "[[1, 0, 0], [0, 9, 0], [0, 0, 5]]"
      ]
     },
     "execution_count": 11,
     "metadata": {},
     "output_type": "execute_result"
    }
   ],
   "source": [
    "ele2diag(a)"
   ]
  },
  {
   "attachments": {},
   "cell_type": "markdown",
   "metadata": {},
   "source": [
    "일반 행렬에 대각행렬을 곱했을 때"
   ]
  },
  {
   "cell_type": "code",
   "execution_count": 20,
   "metadata": {},
   "outputs": [
    {
     "name": "stdout",
     "output_type": "stream",
     "text": [
      "[[1, 2, 3], [4, 5, 6], [7, 8, 9]]\n"
     ]
    }
   ],
   "source": [
    " # D는 1행 1열이 2인 대각행렬\n",
    " A = [[1, 2, 3], [4, 5, 6], [7, 8, 9]]\n",
    " D = ele2diag([2, 1, 1])\n",
    " print(A)\n"
   ]
  },
  {
   "cell_type": "code",
   "execution_count": 21,
   "metadata": {},
   "outputs": [
    {
     "name": "stdout",
     "output_type": "stream",
     "text": [
      "[[2, 0, 0], [0, 1, 0], [0, 0, 1]]\n"
     ]
    }
   ],
   "source": [
    "print(D)"
   ]
  },
  {
   "cell_type": "code",
   "execution_count": 23,
   "metadata": {},
   "outputs": [
    {
     "name": "stdout",
     "output_type": "stream",
     "text": [
      "[[2, 2, 3], [8, 5, 6], [14, 8, 9]]\n"
     ]
    }
   ],
   "source": [
    "# 행렬 A의 1열에만 2가 곱해진 모습을 볼 수 있음\n",
    "AD = matmul(A, D)\n",
    "print(AD)"
   ]
  },
  {
   "cell_type": "code",
   "execution_count": 24,
   "metadata": {},
   "outputs": [
    {
     "name": "stdout",
     "output_type": "stream",
     "text": [
      "[[2, 4, 6], [4, 5, 6], [7, 8, 9]]\n"
     ]
    }
   ],
   "source": [
    "# 곱하는 순서를 바꿀 시 A의 1행에만 2가 곱해짐\n",
    "DA = matmul(D, A)\n",
    "print(DA)"
   ]
  },
  {
   "cell_type": "code",
   "execution_count": 25,
   "metadata": {},
   "outputs": [
    {
     "name": "stdout",
     "output_type": "stream",
     "text": [
      "[[1, 2, 3], [4, 5, 6], [7, 8, 9]]\n"
     ]
    }
   ],
   "source": [
    " # D는 2행 2열이 3인 대각행렬\n",
    " A = [[1, 2, 3], [4, 5, 6], [7, 8, 9]]\n",
    " D = ele2diag([1, 3, 1])\n",
    " print(A)"
   ]
  },
  {
   "cell_type": "code",
   "execution_count": 26,
   "metadata": {},
   "outputs": [
    {
     "name": "stdout",
     "output_type": "stream",
     "text": [
      "[[1, 0, 0], [0, 3, 0], [0, 0, 1]]\n"
     ]
    }
   ],
   "source": [
    "print(D)"
   ]
  },
  {
   "cell_type": "code",
   "execution_count": 27,
   "metadata": {},
   "outputs": [
    {
     "name": "stdout",
     "output_type": "stream",
     "text": [
      "[[1, 6, 3], [4, 15, 6], [7, 24, 9]]\n"
     ]
    }
   ],
   "source": [
    "# A의 2열에만 3이 곱해진 모습을 볼 수 있음\n",
    "AD = matmul(A, D)\n",
    "print(AD)"
   ]
  },
  {
   "cell_type": "code",
   "execution_count": 28,
   "metadata": {},
   "outputs": [
    {
     "name": "stdout",
     "output_type": "stream",
     "text": [
      "[[1, 2, 3], [12, 15, 18], [7, 8, 9]]\n"
     ]
    }
   ],
   "source": [
    "# 순서를 바꾸면 A의 2행에 3이 곱해진 결과를 볼 수 있음\n",
    "DA = matmul(D, A)\n",
    "print(DA)"
   ]
  },
  {
   "cell_type": "code",
   "execution_count": 31,
   "metadata": {},
   "outputs": [
    {
     "name": "stdout",
     "output_type": "stream",
     "text": [
      "[[1, 2, 3], [4, 5, 6], [7, 8, 9]]\n"
     ]
    }
   ],
   "source": [
    "# 2행 2열 값이 3이고 3행 3열 값이 4인 대각 행렬\n",
    "A = [[1, 2, 3], [4, 5, 6], [7, 8, 9]]\n",
    "D = ele2diag([1, 3, 4])\n",
    "print(A)"
   ]
  },
  {
   "cell_type": "code",
   "execution_count": 32,
   "metadata": {},
   "outputs": [
    {
     "name": "stdout",
     "output_type": "stream",
     "text": [
      "[[1, 6, 12], [4, 15, 24], [7, 24, 36]]\n"
     ]
    }
   ],
   "source": [
    "# A의 2열에 3이 곱해지고 3열에 4가 곱해지는 것을 확인할 수 있음\n",
    "AD = matmul(A, D)\n",
    "print(AD)"
   ]
  },
  {
   "cell_type": "code",
   "execution_count": null,
   "metadata": {},
   "outputs": [],
   "source": [
    "# 순서를 바꾸면 A의 2행에 3이 곱해지고 3행에 4가 곱해지는 것을 확인할 수 있음\n",
    "DA = matmul(D, A)\n",
    "print(DA)"
   ]
  },
  {
   "attachments": {},
   "cell_type": "markdown",
   "metadata": {},
   "source": [
    "### numpy 구현"
   ]
  },
  {
   "cell_type": "code",
   "execution_count": 33,
   "metadata": {},
   "outputs": [],
   "source": [
    "import numpy as np"
   ]
  },
  {
   "cell_type": "code",
   "execution_count": 37,
   "metadata": {},
   "outputs": [
    {
     "name": "stdout",
     "output_type": "stream",
     "text": [
      "[1 5 9]\n",
      "[[1 0 0]\n",
      " [0 5 0]\n",
      " [0 0 9]]\n"
     ]
    }
   ],
   "source": [
    "# 대각 행렬 구하기\n",
    "A = np.array([[1, 2, 3], [4, 5, 6], [7, 8, 9]])\n",
    "D = np.diag(A)\n",
    "print(D)\n",
    "# A의 대각함수 D를 diag 함수 인자로 넣기\n",
    "print(np.diag(D))"
   ]
  },
  {
   "cell_type": "code",
   "execution_count": 38,
   "metadata": {},
   "outputs": [
    {
     "name": "stdout",
     "output_type": "stream",
     "text": [
      "[[1 2 3]\n",
      " [4 5 6]\n",
      " [7 8 9]]\n"
     ]
    }
   ],
   "source": [
    "# 대각 행렬과 행렬의 곱셈\n",
    "A = np.array([[1, 2, 3], [4, 5, 6], [7, 8, 9]])\n",
    "D = np.diag([1, 3, 4])\n",
    "print(A)"
   ]
  },
  {
   "cell_type": "code",
   "execution_count": 41,
   "metadata": {},
   "outputs": [
    {
     "name": "stdout",
     "output_type": "stream",
     "text": [
      "[[ 1  6 12]\n",
      " [ 4 15 24]\n",
      " [ 7 24 36]]\n"
     ]
    }
   ],
   "source": [
    "# 곱할 시 행렬 A의 2열에 3이 곱해지고 3열에 4가 곱해짐\n",
    "AD = np.matmul(A,D)\n",
    "print(AD)"
   ]
  },
  {
   "cell_type": "code",
   "execution_count": 42,
   "metadata": {},
   "outputs": [
    {
     "name": "stdout",
     "output_type": "stream",
     "text": [
      "[[ 1  2  3]\n",
      " [12 15 18]\n",
      " [28 32 36]]\n"
     ]
    }
   ],
   "source": [
    "# 순서를 바꿀 경우 행렬 A의 2행에 3이 곱해지고 3행에 4가 곱해짐\n",
    "DA = np.matmul(D,A)\n",
    "print(DA)"
   ]
  },
  {
   "attachments": {},
   "cell_type": "markdown",
   "metadata": {},
   "source": [
    "# 단위 행렬(identity matrix)"
   ]
  },
  {
   "attachments": {},
   "cell_type": "markdown",
   "metadata": {},
   "source": [
    "대각 원소가 1이고 그 밖의 나머지 원소는 모두 0인 대각 행렬"
   ]
  },
  {
   "cell_type": "code",
   "execution_count": 2,
   "metadata": {},
   "outputs": [],
   "source": [
    "def identity(n):\n",
    "    \"\"\"\n",
    "    단위 행렬 생성\n",
    "    입력값 : 단위 행렬의 크기 n\n",
    "    출력값 : nxn 단위 행렬 I\n",
    "    \"\"\"\n",
    "    I = []\n",
    "    for i in range(0, n):\n",
    "        row = []\n",
    "        for j in range(0, n):\n",
    "            if i==j:\n",
    "                row.append(1)\n",
    "            else:\n",
    "                row.append(0)\n",
    "        I.append(row)\n",
    "    return I"
   ]
  },
  {
   "attachments": {},
   "cell_type": "markdown",
   "metadata": {},
   "source": [
    "## 대각 행렬의 성질"
   ]
  },
  {
   "attachments": {},
   "cell_type": "markdown",
   "metadata": {},
   "source": [
    "# 영 행렬 (zero matrix)"
   ]
  },
  {
   "cell_type": "code",
   "execution_count": null,
   "metadata": {},
   "outputs": [],
   "source": []
  }
 ],
 "metadata": {
  "kernelspec": {
   "display_name": "BOK_team_1",
   "language": "python",
   "name": "python3"
  },
  "language_info": {
   "codemirror_mode": {
    "name": "ipython",
    "version": 3
   },
   "file_extension": ".py",
   "mimetype": "text/x-python",
   "name": "python",
   "nbconvert_exporter": "python",
   "pygments_lexer": "ipython3",
   "version": "3.8.19"
  },
  "orig_nbformat": 4
 },
 "nbformat": 4,
 "nbformat_minor": 2
}
