{
 "cells": [
  {
   "attachments": {},
   "cell_type": "markdown",
   "metadata": {},
   "source": [
    "# 경우의 수"
   ]
  },
  {
   "attachments": {},
   "cell_type": "markdown",
   "metadata": {},
   "source": [
    "## 팩토리얼"
   ]
  },
  {
   "attachments": {},
   "cell_type": "markdown",
   "metadata": {},
   "source": [
    "- 팩토리얼(factorial)이란 1부터 자연수 n까지의 모든 자연수의 곱을 나타내며 !로 표기한다.<br>\n",
    "5! = 5 x 4 x 3 x 2 x 1 = 120"
   ]
  },
  {
   "cell_type": "code",
   "execution_count": 1,
   "metadata": {},
   "outputs": [],
   "source": [
    "def factorial(x):\n",
    "    \"\"\"\n",
    "    팩토리얼 함수\n",
    "    입력값: 정수 x\n",
    "    출력값: x!\n",
    "    \"\"\"\n",
    "    x_list = list(range(1, x+1))\n",
    "    res = 1\n",
    "    for val in x_list:\n",
    "        res *= val\n",
    "    return res"
   ]
  },
  {
   "attachments": {},
   "cell_type": "markdown",
   "metadata": {},
   "source": [
    "## 조합"
   ]
  },
  {
   "attachments": {},
   "cell_type": "markdown",
   "metadata": {},
   "source": [
    "- 조합(combination)이란 서로 다른 n개의 원소를 가지는 어떤 집합에서 순서에 상관없이 x개의 원소를 선택할 수 있는 가짓수를 의미하며 팩토리얼의 개념을 이용해 다음과 같이 표현한다.\n",
    "$$\n",
    "\\binom{n}{x} = \\frac{n!}{x! (n-x)!}\n",
    "$$\n",
    "- 5개의 원소 중 순서에 상관없이 3개를 선택할 수 있는 경우의 수는 다음과 같다.\n",
    "\n",
    "$$\n",
    "\\binom{5}{3} = \\frac{5!}{3!(5-3)!}\n",
    "$$\n"
   ]
  },
  {
   "cell_type": "code",
   "execution_count": 2,
   "metadata": {},
   "outputs": [],
   "source": [
    "def combination(n, x):\n",
    "    \"\"\"\n",
    "    조합\n",
    "    입력값: n, x\n",
    "    출력값: nCx(실수)\n",
    "    \"\"\"\n",
    "    res = factorial(n)/(factorial(x)*factorial(n-x))\n",
    "    return res"
   ]
  }
 ],
 "metadata": {
  "kernelspec": {
   "display_name": "Python 3",
   "language": "python",
   "name": "python3"
  },
  "language_info": {
   "codemirror_mode": {
    "name": "ipython",
    "version": 3
   },
   "file_extension": ".py",
   "mimetype": "text/x-python",
   "name": "python",
   "nbconvert_exporter": "python",
   "pygments_lexer": "ipython3",
   "version": "3.10.11"
  },
  "orig_nbformat": 4
 },
 "nbformat": 4,
 "nbformat_minor": 2
}
